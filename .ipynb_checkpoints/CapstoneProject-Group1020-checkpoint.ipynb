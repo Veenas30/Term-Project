{
 "cells": [
  {
   "cell_type": "code",
   "execution_count": 2,
   "metadata": {},
   "outputs": [],
   "source": [
    "# Importing libraries:\n",
    "import pandas as pd\n",
    "import numpy as np\n",
    "from pandas import DataFrame\n",
    "import matplotlib.pyplot as plt"
   ]
  },
  {
   "cell_type": "code",
   "execution_count": 3,
   "metadata": {},
   "outputs": [],
   "source": [
    "# Read all data files\n",
    "event_data = pd.read_csv(\"C:/Users/sphoo/Veena-INSAID/CAPSTONE1/events_data.csv\") \n",
    "phone_brand = pd.read_csv(\"C:/Users/sphoo/Veena-INSAID/CAPSTONE1/phone_brand_device_model.csv\") \n",
    "gender_age = pd.read_csv(\"C:/Users/sphoo/Veena-INSAID/CAPSTONE1/gender_age_train.csv\") "
   ]
  },
  {
   "cell_type": "code",
   "execution_count": 309,
   "metadata": {},
   "outputs": [
    {
     "data": {
      "text/plain": [
       "(74645, 4)"
      ]
     },
     "execution_count": 309,
     "metadata": {},
     "output_type": "execute_result"
    }
   ],
   "source": [
    "gender_age.shape"
   ]
  },
  {
   "cell_type": "code",
   "execution_count": 310,
   "metadata": {},
   "outputs": [
    {
     "data": {
      "text/plain": [
       "(87726, 3)"
      ]
     },
     "execution_count": 310,
     "metadata": {},
     "output_type": "execute_result"
    }
   ],
   "source": [
    "phone_brand.shape"
   ]
  },
  {
   "cell_type": "code",
   "execution_count": 311,
   "metadata": {},
   "outputs": [
    {
     "data": {
      "text/plain": [
       "(3252950, 7)"
      ]
     },
     "execution_count": 311,
     "metadata": {},
     "output_type": "execute_result"
    }
   ],
   "source": [
    "event_data.shape"
   ]
  },
  {
   "cell_type": "code",
   "execution_count": 312,
   "metadata": {},
   "outputs": [],
   "source": [
    "# Check parameter datatypes and unify format for device_id to help with the joins"
   ]
  },
  {
   "cell_type": "code",
   "execution_count": 4,
   "metadata": {},
   "outputs": [
    {
     "data": {
      "text/plain": [
       "event_id     float64\n",
       "device_id    float64\n",
       "timestamp     object\n",
       "longitude    float64\n",
       "latitude     float64\n",
       "city          object\n",
       "state         object\n",
       "dtype: object"
      ]
     },
     "execution_count": 4,
     "metadata": {},
     "output_type": "execute_result"
    }
   ],
   "source": [
    "event_data.dtypes"
   ]
  },
  {
   "cell_type": "code",
   "execution_count": 5,
   "metadata": {},
   "outputs": [
    {
     "data": {
      "text/plain": [
       "device_id        int64\n",
       "phone_brand     object\n",
       "device_model    object\n",
       "dtype: object"
      ]
     },
     "execution_count": 5,
     "metadata": {},
     "output_type": "execute_result"
    }
   ],
   "source": [
    "phone_brand.dtypes"
   ]
  },
  {
   "cell_type": "code",
   "execution_count": 6,
   "metadata": {},
   "outputs": [
    {
     "data": {
      "text/plain": [
       "device_id     int64\n",
       "gender       object\n",
       "age           int64\n",
       "group        object\n",
       "dtype: object"
      ]
     },
     "execution_count": 6,
     "metadata": {},
     "output_type": "execute_result"
    }
   ],
   "source": [
    "gender_age.dtypes"
   ]
  },
  {
   "cell_type": "code",
   "execution_count": 7,
   "metadata": {},
   "outputs": [
    {
     "data": {
      "text/html": [
       "<div>\n",
       "<style scoped>\n",
       "    .dataframe tbody tr th:only-of-type {\n",
       "        vertical-align: middle;\n",
       "    }\n",
       "\n",
       "    .dataframe tbody tr th {\n",
       "        vertical-align: top;\n",
       "    }\n",
       "\n",
       "    .dataframe thead th {\n",
       "        text-align: right;\n",
       "    }\n",
       "</style>\n",
       "<table border=\"1\" class=\"dataframe\">\n",
       "  <thead>\n",
       "    <tr style=\"text-align: right;\">\n",
       "      <th></th>\n",
       "      <th>event_id</th>\n",
       "      <th>device_id</th>\n",
       "      <th>timestamp</th>\n",
       "      <th>longitude</th>\n",
       "      <th>latitude</th>\n",
       "      <th>city</th>\n",
       "      <th>state</th>\n",
       "    </tr>\n",
       "  </thead>\n",
       "  <tbody>\n",
       "    <tr>\n",
       "      <th>0</th>\n",
       "      <td>1.0</td>\n",
       "      <td>2.918269e+16</td>\n",
       "      <td>2016-05-01 00:55:25</td>\n",
       "      <td>77.266049</td>\n",
       "      <td>28.68161</td>\n",
       "      <td>Delhi</td>\n",
       "      <td>Delhi</td>\n",
       "    </tr>\n",
       "    <tr>\n",
       "      <th>1</th>\n",
       "      <td>7104.0</td>\n",
       "      <td>2.918269e+16</td>\n",
       "      <td>2016-05-02 09:37:02</td>\n",
       "      <td>77.266049</td>\n",
       "      <td>28.68161</td>\n",
       "      <td>Delhi</td>\n",
       "      <td>Delhi</td>\n",
       "    </tr>\n",
       "    <tr>\n",
       "      <th>2</th>\n",
       "      <td>29661.0</td>\n",
       "      <td>2.918269e+16</td>\n",
       "      <td>2016-05-04 00:56:04</td>\n",
       "      <td>77.266049</td>\n",
       "      <td>28.68161</td>\n",
       "      <td>Delhi</td>\n",
       "      <td>Delhi</td>\n",
       "    </tr>\n",
       "    <tr>\n",
       "      <th>3</th>\n",
       "      <td>33133.0</td>\n",
       "      <td>2.918269e+16</td>\n",
       "      <td>2016-05-06 05:01:15</td>\n",
       "      <td>77.266049</td>\n",
       "      <td>28.68161</td>\n",
       "      <td>Delhi</td>\n",
       "      <td>Delhi</td>\n",
       "    </tr>\n",
       "    <tr>\n",
       "      <th>4</th>\n",
       "      <td>38980.0</td>\n",
       "      <td>2.918269e+16</td>\n",
       "      <td>2016-05-06 09:55:04</td>\n",
       "      <td>77.266049</td>\n",
       "      <td>28.68161</td>\n",
       "      <td>Delhi</td>\n",
       "      <td>Delhi</td>\n",
       "    </tr>\n",
       "  </tbody>\n",
       "</table>\n",
       "</div>"
      ],
      "text/plain": [
       "   event_id     device_id            timestamp  longitude  latitude   city  \\\n",
       "0       1.0  2.918269e+16  2016-05-01 00:55:25  77.266049  28.68161  Delhi   \n",
       "1    7104.0  2.918269e+16  2016-05-02 09:37:02  77.266049  28.68161  Delhi   \n",
       "2   29661.0  2.918269e+16  2016-05-04 00:56:04  77.266049  28.68161  Delhi   \n",
       "3   33133.0  2.918269e+16  2016-05-06 05:01:15  77.266049  28.68161  Delhi   \n",
       "4   38980.0  2.918269e+16  2016-05-06 09:55:04  77.266049  28.68161  Delhi   \n",
       "\n",
       "   state  \n",
       "0  Delhi  \n",
       "1  Delhi  \n",
       "2  Delhi  \n",
       "3  Delhi  \n",
       "4  Delhi  "
      ]
     },
     "execution_count": 7,
     "metadata": {},
     "output_type": "execute_result"
    }
   ],
   "source": [
    "event_data.head()"
   ]
  },
  {
   "cell_type": "code",
   "execution_count": 8,
   "metadata": {},
   "outputs": [
    {
     "data": {
      "text/html": [
       "<div>\n",
       "<style scoped>\n",
       "    .dataframe tbody tr th:only-of-type {\n",
       "        vertical-align: middle;\n",
       "    }\n",
       "\n",
       "    .dataframe tbody tr th {\n",
       "        vertical-align: top;\n",
       "    }\n",
       "\n",
       "    .dataframe thead th {\n",
       "        text-align: right;\n",
       "    }\n",
       "</style>\n",
       "<table border=\"1\" class=\"dataframe\">\n",
       "  <thead>\n",
       "    <tr style=\"text-align: right;\">\n",
       "      <th></th>\n",
       "      <th>device_id</th>\n",
       "      <th>phone_brand</th>\n",
       "      <th>device_model</th>\n",
       "    </tr>\n",
       "  </thead>\n",
       "  <tbody>\n",
       "    <tr>\n",
       "      <th>0</th>\n",
       "      <td>1877775838486905855</td>\n",
       "      <td>vivo</td>\n",
       "      <td>Y13</td>\n",
       "    </tr>\n",
       "    <tr>\n",
       "      <th>1</th>\n",
       "      <td>-3766087376657242966</td>\n",
       "      <td>小米</td>\n",
       "      <td>V183</td>\n",
       "    </tr>\n",
       "    <tr>\n",
       "      <th>2</th>\n",
       "      <td>-6238937574958215831</td>\n",
       "      <td>OPPO</td>\n",
       "      <td>R7s</td>\n",
       "    </tr>\n",
       "    <tr>\n",
       "      <th>3</th>\n",
       "      <td>8973197758510677470</td>\n",
       "      <td>三星</td>\n",
       "      <td>A368t</td>\n",
       "    </tr>\n",
       "    <tr>\n",
       "      <th>4</th>\n",
       "      <td>-2015528097870762664</td>\n",
       "      <td>小米</td>\n",
       "      <td>红米Note2</td>\n",
       "    </tr>\n",
       "  </tbody>\n",
       "</table>\n",
       "</div>"
      ],
      "text/plain": [
       "             device_id phone_brand device_model\n",
       "0  1877775838486905855        vivo          Y13\n",
       "1 -3766087376657242966          小米         V183\n",
       "2 -6238937574958215831        OPPO          R7s\n",
       "3  8973197758510677470          三星        A368t\n",
       "4 -2015528097870762664          小米      红米Note2"
      ]
     },
     "execution_count": 8,
     "metadata": {},
     "output_type": "execute_result"
    }
   ],
   "source": [
    "phone_brand.head()"
   ]
  },
  {
   "cell_type": "code",
   "execution_count": 9,
   "metadata": {},
   "outputs": [
    {
     "data": {
      "text/html": [
       "<div>\n",
       "<style scoped>\n",
       "    .dataframe tbody tr th:only-of-type {\n",
       "        vertical-align: middle;\n",
       "    }\n",
       "\n",
       "    .dataframe tbody tr th {\n",
       "        vertical-align: top;\n",
       "    }\n",
       "\n",
       "    .dataframe thead th {\n",
       "        text-align: right;\n",
       "    }\n",
       "</style>\n",
       "<table border=\"1\" class=\"dataframe\">\n",
       "  <thead>\n",
       "    <tr style=\"text-align: right;\">\n",
       "      <th></th>\n",
       "      <th>device_id</th>\n",
       "      <th>gender</th>\n",
       "      <th>age</th>\n",
       "      <th>group</th>\n",
       "    </tr>\n",
       "  </thead>\n",
       "  <tbody>\n",
       "    <tr>\n",
       "      <th>0</th>\n",
       "      <td>-8076087639492063270</td>\n",
       "      <td>M</td>\n",
       "      <td>35</td>\n",
       "      <td>M32-38</td>\n",
       "    </tr>\n",
       "    <tr>\n",
       "      <th>1</th>\n",
       "      <td>-2897161552818060146</td>\n",
       "      <td>M</td>\n",
       "      <td>35</td>\n",
       "      <td>M32-38</td>\n",
       "    </tr>\n",
       "    <tr>\n",
       "      <th>2</th>\n",
       "      <td>-8260683887967679142</td>\n",
       "      <td>M</td>\n",
       "      <td>35</td>\n",
       "      <td>M32-38</td>\n",
       "    </tr>\n",
       "    <tr>\n",
       "      <th>3</th>\n",
       "      <td>-4938849341048082022</td>\n",
       "      <td>M</td>\n",
       "      <td>30</td>\n",
       "      <td>M29-31</td>\n",
       "    </tr>\n",
       "    <tr>\n",
       "      <th>4</th>\n",
       "      <td>245133531816851882</td>\n",
       "      <td>M</td>\n",
       "      <td>30</td>\n",
       "      <td>M29-31</td>\n",
       "    </tr>\n",
       "  </tbody>\n",
       "</table>\n",
       "</div>"
      ],
      "text/plain": [
       "             device_id gender  age   group\n",
       "0 -8076087639492063270      M   35  M32-38\n",
       "1 -2897161552818060146      M   35  M32-38\n",
       "2 -8260683887967679142      M   35  M32-38\n",
       "3 -4938849341048082022      M   30  M29-31\n",
       "4   245133531816851882      M   30  M29-31"
      ]
     },
     "execution_count": 9,
     "metadata": {},
     "output_type": "execute_result"
    }
   ],
   "source": [
    "gender_age.head()"
   ]
  },
  {
   "cell_type": "code",
   "execution_count": 10,
   "metadata": {},
   "outputs": [],
   "source": [
    "phone_brand['device_id'] = phone_brand['device_id'].apply(float)"
   ]
  },
  {
   "cell_type": "code",
   "execution_count": 11,
   "metadata": {},
   "outputs": [],
   "source": [
    "gender_age['device_id'] = gender_age['device_id'].apply(float)"
   ]
  },
  {
   "cell_type": "code",
   "execution_count": 12,
   "metadata": {},
   "outputs": [],
   "source": [
    "# Check for nulls in the dataset and try to fill the same "
   ]
  },
  {
   "cell_type": "code",
   "execution_count": 13,
   "metadata": {},
   "outputs": [
    {
     "data": {
      "text/plain": [
       "device_id    453\n",
       "latitude     423\n",
       "longitude    423\n",
       "state        377\n",
       "city           0\n",
       "timestamp      0\n",
       "event_id       0\n",
       "dtype: int64"
      ]
     },
     "execution_count": 13,
     "metadata": {},
     "output_type": "execute_result"
    }
   ],
   "source": [
    "event_data.isnull().sum().sort_values(ascending = False)"
   ]
  },
  {
   "cell_type": "code",
   "execution_count": 14,
   "metadata": {},
   "outputs": [],
   "source": [
    "#Above shows missing data at device_id, latitude, longitude and state.\n",
    " #However, no nulls at city or event_id\n",
    "    # it is observed that co-ordinates exist for the same city in the dataframe\n",
    "    # Also observed that the device_ids are also related to paticular location\n",
    "    # to extract the latitude and logitude based on the co-ordinates available for the city and the corresponding to device_id"
   ]
  },
  {
   "cell_type": "code",
   "execution_count": 15,
   "metadata": {},
   "outputs": [
    {
     "data": {
      "text/html": [
       "<div>\n",
       "<style scoped>\n",
       "    .dataframe tbody tr th:only-of-type {\n",
       "        vertical-align: middle;\n",
       "    }\n",
       "\n",
       "    .dataframe tbody tr th {\n",
       "        vertical-align: top;\n",
       "    }\n",
       "\n",
       "    .dataframe thead th {\n",
       "        text-align: right;\n",
       "    }\n",
       "</style>\n",
       "<table border=\"1\" class=\"dataframe\">\n",
       "  <thead>\n",
       "    <tr style=\"text-align: right;\">\n",
       "      <th></th>\n",
       "      <th>event_id</th>\n",
       "      <th>device_id</th>\n",
       "      <th>timestamp</th>\n",
       "      <th>longitude</th>\n",
       "      <th>latitude</th>\n",
       "      <th>city</th>\n",
       "      <th>state</th>\n",
       "    </tr>\n",
       "  </thead>\n",
       "  <tbody>\n",
       "    <tr>\n",
       "      <th>0</th>\n",
       "      <td>1.0</td>\n",
       "      <td>2.918269e+16</td>\n",
       "      <td>2016-05-01 00:55:25</td>\n",
       "      <td>77.266049</td>\n",
       "      <td>28.681610</td>\n",
       "      <td>Delhi</td>\n",
       "      <td>Delhi</td>\n",
       "    </tr>\n",
       "    <tr>\n",
       "      <th>1</th>\n",
       "      <td>7104.0</td>\n",
       "      <td>2.918269e+16</td>\n",
       "      <td>2016-05-02 09:37:02</td>\n",
       "      <td>77.266049</td>\n",
       "      <td>28.681610</td>\n",
       "      <td>Delhi</td>\n",
       "      <td>Delhi</td>\n",
       "    </tr>\n",
       "    <tr>\n",
       "      <th>2</th>\n",
       "      <td>29661.0</td>\n",
       "      <td>2.918269e+16</td>\n",
       "      <td>2016-05-04 00:56:04</td>\n",
       "      <td>77.266049</td>\n",
       "      <td>28.681610</td>\n",
       "      <td>Delhi</td>\n",
       "      <td>Delhi</td>\n",
       "    </tr>\n",
       "    <tr>\n",
       "      <th>3</th>\n",
       "      <td>33133.0</td>\n",
       "      <td>2.918269e+16</td>\n",
       "      <td>2016-05-06 05:01:15</td>\n",
       "      <td>77.266049</td>\n",
       "      <td>28.681610</td>\n",
       "      <td>Delhi</td>\n",
       "      <td>Delhi</td>\n",
       "    </tr>\n",
       "    <tr>\n",
       "      <th>4</th>\n",
       "      <td>38980.0</td>\n",
       "      <td>2.918269e+16</td>\n",
       "      <td>2016-05-06 09:55:04</td>\n",
       "      <td>77.266049</td>\n",
       "      <td>28.681610</td>\n",
       "      <td>Delhi</td>\n",
       "      <td>Delhi</td>\n",
       "    </tr>\n",
       "    <tr>\n",
       "      <th>...</th>\n",
       "      <td>...</td>\n",
       "      <td>...</td>\n",
       "      <td>...</td>\n",
       "      <td>...</td>\n",
       "      <td>...</td>\n",
       "      <td>...</td>\n",
       "      <td>...</td>\n",
       "    </tr>\n",
       "    <tr>\n",
       "      <th>3252945</th>\n",
       "      <td>3241600.0</td>\n",
       "      <td>6.057196e+18</td>\n",
       "      <td>2016-05-04 17:51:29</td>\n",
       "      <td>76.437031</td>\n",
       "      <td>14.328436</td>\n",
       "      <td>Chitradurga</td>\n",
       "      <td>Karnataka</td>\n",
       "    </tr>\n",
       "    <tr>\n",
       "      <th>3252946</th>\n",
       "      <td>3241929.0</td>\n",
       "      <td>8.855298e+18</td>\n",
       "      <td>2016-05-05 17:05:08</td>\n",
       "      <td>88.131884</td>\n",
       "      <td>24.551253</td>\n",
       "      <td>Jangipur</td>\n",
       "      <td>WestBengal</td>\n",
       "    </tr>\n",
       "    <tr>\n",
       "      <th>3252947</th>\n",
       "      <td>3242387.0</td>\n",
       "      <td>1.734091e+18</td>\n",
       "      <td>2016-05-07 17:17:27</td>\n",
       "      <td>86.538832</td>\n",
       "      <td>25.542353</td>\n",
       "      <td>Khagaria</td>\n",
       "      <td>Bihar</td>\n",
       "    </tr>\n",
       "    <tr>\n",
       "      <th>3252948</th>\n",
       "      <td>3248517.0</td>\n",
       "      <td>7.886185e+18</td>\n",
       "      <td>2016-05-04 21:35:09</td>\n",
       "      <td>88.428472</td>\n",
       "      <td>22.731814</td>\n",
       "      <td>Bally</td>\n",
       "      <td>WestBengal</td>\n",
       "    </tr>\n",
       "    <tr>\n",
       "      <th>3252949</th>\n",
       "      <td>3251669.0</td>\n",
       "      <td>-8.448990e+18</td>\n",
       "      <td>2016-05-02 23:34:42</td>\n",
       "      <td>72.140981</td>\n",
       "      <td>21.862590</td>\n",
       "      <td>Bhavnagar</td>\n",
       "      <td>Gujarat</td>\n",
       "    </tr>\n",
       "  </tbody>\n",
       "</table>\n",
       "<p>3252527 rows × 7 columns</p>\n",
       "</div>"
      ],
      "text/plain": [
       "          event_id     device_id            timestamp  longitude   latitude  \\\n",
       "0              1.0  2.918269e+16  2016-05-01 00:55:25  77.266049  28.681610   \n",
       "1           7104.0  2.918269e+16  2016-05-02 09:37:02  77.266049  28.681610   \n",
       "2          29661.0  2.918269e+16  2016-05-04 00:56:04  77.266049  28.681610   \n",
       "3          33133.0  2.918269e+16  2016-05-06 05:01:15  77.266049  28.681610   \n",
       "4          38980.0  2.918269e+16  2016-05-06 09:55:04  77.266049  28.681610   \n",
       "...            ...           ...                  ...        ...        ...   \n",
       "3252945  3241600.0  6.057196e+18  2016-05-04 17:51:29  76.437031  14.328436   \n",
       "3252946  3241929.0  8.855298e+18  2016-05-05 17:05:08  88.131884  24.551253   \n",
       "3252947  3242387.0  1.734091e+18  2016-05-07 17:17:27  86.538832  25.542353   \n",
       "3252948  3248517.0  7.886185e+18  2016-05-04 21:35:09  88.428472  22.731814   \n",
       "3252949  3251669.0 -8.448990e+18  2016-05-02 23:34:42  72.140981  21.862590   \n",
       "\n",
       "                city       state  \n",
       "0              Delhi       Delhi  \n",
       "1              Delhi       Delhi  \n",
       "2              Delhi       Delhi  \n",
       "3              Delhi       Delhi  \n",
       "4              Delhi       Delhi  \n",
       "...              ...         ...  \n",
       "3252945  Chitradurga   Karnataka  \n",
       "3252946     Jangipur  WestBengal  \n",
       "3252947     Khagaria       Bihar  \n",
       "3252948        Bally  WestBengal  \n",
       "3252949    Bhavnagar     Gujarat  \n",
       "\n",
       "[3252527 rows x 7 columns]"
      ]
     },
     "execution_count": 15,
     "metadata": {},
     "output_type": "execute_result"
    }
   ],
   "source": [
    " event_data[event_data.latitude.notna()]"
   ]
  },
  {
   "cell_type": "code",
   "execution_count": 16,
   "metadata": {},
   "outputs": [
    {
     "data": {
      "text/html": [
       "<div>\n",
       "<style scoped>\n",
       "    .dataframe tbody tr th:only-of-type {\n",
       "        vertical-align: middle;\n",
       "    }\n",
       "\n",
       "    .dataframe tbody tr th {\n",
       "        vertical-align: top;\n",
       "    }\n",
       "\n",
       "    .dataframe thead th {\n",
       "        text-align: right;\n",
       "    }\n",
       "</style>\n",
       "<table border=\"1\" class=\"dataframe\">\n",
       "  <thead>\n",
       "    <tr style=\"text-align: right;\">\n",
       "      <th></th>\n",
       "      <th>event_id</th>\n",
       "      <th>device_id</th>\n",
       "      <th>timestamp</th>\n",
       "      <th>longitude</th>\n",
       "      <th>latitude</th>\n",
       "      <th>city</th>\n",
       "      <th>state</th>\n",
       "    </tr>\n",
       "  </thead>\n",
       "  <tbody>\n",
       "    <tr>\n",
       "      <th>78116</th>\n",
       "      <td>53343.0</td>\n",
       "      <td>4.782582e+18</td>\n",
       "      <td>2016-05-02 18:13:55</td>\n",
       "      <td>NaN</td>\n",
       "      <td>NaN</td>\n",
       "      <td>Delhi</td>\n",
       "      <td>Delhi</td>\n",
       "    </tr>\n",
       "    <tr>\n",
       "      <th>78331</th>\n",
       "      <td>295454.0</td>\n",
       "      <td>4.782582e+18</td>\n",
       "      <td>2016-05-03 05:35:43</td>\n",
       "      <td>NaN</td>\n",
       "      <td>NaN</td>\n",
       "      <td>Delhi</td>\n",
       "      <td>Delhi</td>\n",
       "    </tr>\n",
       "    <tr>\n",
       "      <th>78597</th>\n",
       "      <td>594751.0</td>\n",
       "      <td>4.782582e+18</td>\n",
       "      <td>2016-05-03 05:29:07</td>\n",
       "      <td>NaN</td>\n",
       "      <td>NaN</td>\n",
       "      <td>Delhi</td>\n",
       "      <td>Delhi</td>\n",
       "    </tr>\n",
       "    <tr>\n",
       "      <th>78848</th>\n",
       "      <td>892922.0</td>\n",
       "      <td>4.782582e+18</td>\n",
       "      <td>2016-05-06 05:56:01</td>\n",
       "      <td>NaN</td>\n",
       "      <td>NaN</td>\n",
       "      <td>Delhi</td>\n",
       "      <td>Delhi</td>\n",
       "    </tr>\n",
       "    <tr>\n",
       "      <th>79022</th>\n",
       "      <td>1081858.0</td>\n",
       "      <td>4.782582e+18</td>\n",
       "      <td>2016-05-02 07:22:47</td>\n",
       "      <td>NaN</td>\n",
       "      <td>NaN</td>\n",
       "      <td>Delhi</td>\n",
       "      <td>Delhi</td>\n",
       "    </tr>\n",
       "    <tr>\n",
       "      <th>...</th>\n",
       "      <td>...</td>\n",
       "      <td>...</td>\n",
       "      <td>...</td>\n",
       "      <td>...</td>\n",
       "      <td>...</td>\n",
       "      <td>...</td>\n",
       "      <td>...</td>\n",
       "    </tr>\n",
       "    <tr>\n",
       "      <th>3025458</th>\n",
       "      <td>3014889.0</td>\n",
       "      <td>3.099169e+18</td>\n",
       "      <td>2016-05-05 21:24:10</td>\n",
       "      <td>NaN</td>\n",
       "      <td>NaN</td>\n",
       "      <td>Bagaha</td>\n",
       "      <td>Bihar</td>\n",
       "    </tr>\n",
       "    <tr>\n",
       "      <th>3025460</th>\n",
       "      <td>3024797.0</td>\n",
       "      <td>3.099169e+18</td>\n",
       "      <td>2016-05-02 23:00:00</td>\n",
       "      <td>NaN</td>\n",
       "      <td>NaN</td>\n",
       "      <td>Bagaha</td>\n",
       "      <td>Bihar</td>\n",
       "    </tr>\n",
       "    <tr>\n",
       "      <th>3025483</th>\n",
       "      <td>3123229.0</td>\n",
       "      <td>3.099169e+18</td>\n",
       "      <td>2016-05-04 20:56:32</td>\n",
       "      <td>NaN</td>\n",
       "      <td>NaN</td>\n",
       "      <td>Bagaha</td>\n",
       "      <td>Bihar</td>\n",
       "    </tr>\n",
       "    <tr>\n",
       "      <th>3025508</th>\n",
       "      <td>3212639.0</td>\n",
       "      <td>3.099169e+18</td>\n",
       "      <td>2016-05-04 21:11:01</td>\n",
       "      <td>NaN</td>\n",
       "      <td>NaN</td>\n",
       "      <td>Bagaha</td>\n",
       "      <td>Bihar</td>\n",
       "    </tr>\n",
       "    <tr>\n",
       "      <th>3025513</th>\n",
       "      <td>3219204.0</td>\n",
       "      <td>3.099169e+18</td>\n",
       "      <td>2016-05-05 23:30:21</td>\n",
       "      <td>NaN</td>\n",
       "      <td>NaN</td>\n",
       "      <td>Bagaha</td>\n",
       "      <td>Bihar</td>\n",
       "    </tr>\n",
       "  </tbody>\n",
       "</table>\n",
       "<p>423 rows × 7 columns</p>\n",
       "</div>"
      ],
      "text/plain": [
       "          event_id     device_id            timestamp  longitude  latitude  \\\n",
       "78116      53343.0  4.782582e+18  2016-05-02 18:13:55        NaN       NaN   \n",
       "78331     295454.0  4.782582e+18  2016-05-03 05:35:43        NaN       NaN   \n",
       "78597     594751.0  4.782582e+18  2016-05-03 05:29:07        NaN       NaN   \n",
       "78848     892922.0  4.782582e+18  2016-05-06 05:56:01        NaN       NaN   \n",
       "79022    1081858.0  4.782582e+18  2016-05-02 07:22:47        NaN       NaN   \n",
       "...            ...           ...                  ...        ...       ...   \n",
       "3025458  3014889.0  3.099169e+18  2016-05-05 21:24:10        NaN       NaN   \n",
       "3025460  3024797.0  3.099169e+18  2016-05-02 23:00:00        NaN       NaN   \n",
       "3025483  3123229.0  3.099169e+18  2016-05-04 20:56:32        NaN       NaN   \n",
       "3025508  3212639.0  3.099169e+18  2016-05-04 21:11:01        NaN       NaN   \n",
       "3025513  3219204.0  3.099169e+18  2016-05-05 23:30:21        NaN       NaN   \n",
       "\n",
       "           city  state  \n",
       "78116     Delhi  Delhi  \n",
       "78331     Delhi  Delhi  \n",
       "78597     Delhi  Delhi  \n",
       "78848     Delhi  Delhi  \n",
       "79022     Delhi  Delhi  \n",
       "...         ...    ...  \n",
       "3025458  Bagaha  Bihar  \n",
       "3025460  Bagaha  Bihar  \n",
       "3025483  Bagaha  Bihar  \n",
       "3025508  Bagaha  Bihar  \n",
       "3025513  Bagaha  Bihar  \n",
       "\n",
       "[423 rows x 7 columns]"
      ]
     },
     "execution_count": 16,
     "metadata": {},
     "output_type": "execute_result"
    }
   ],
   "source": [
    "event_data[event_data.latitude.isnull()]"
   ]
  },
  {
   "cell_type": "code",
   "execution_count": 17,
   "metadata": {},
   "outputs": [],
   "source": [
    "# Update Missing Latitudes and Longitudes:\n",
    "a = event_data[event_data.latitude.notna()]\n",
    "b = event_data[event_data.latitude.isnull()]\n",
    "for i in range(len(b)):\n",
    "    lat=a[b.iloc[i].device_id == a.device_id].iloc[0].latitude\n",
    "    lng=a[b.iloc[i].device_id == a.device_id].iloc[0].longitude\n",
    "    b.iat[i,4] = lat\n",
    "    b.iat[i,3] = lng\n",
    "event_data.loc[event_data.event_id.isin(b.event_id), ['longitude', 'latitude']] = b[['longitude', 'latitude']].values"
   ]
  },
  {
   "cell_type": "code",
   "execution_count": 154,
   "metadata": {},
   "outputs": [
    {
     "data": {
      "text/html": [
       "<div>\n",
       "<style scoped>\n",
       "    .dataframe tbody tr th:only-of-type {\n",
       "        vertical-align: middle;\n",
       "    }\n",
       "\n",
       "    .dataframe tbody tr th {\n",
       "        vertical-align: top;\n",
       "    }\n",
       "\n",
       "    .dataframe thead th {\n",
       "        text-align: right;\n",
       "    }\n",
       "</style>\n",
       "<table border=\"1\" class=\"dataframe\">\n",
       "  <thead>\n",
       "    <tr style=\"text-align: right;\">\n",
       "      <th></th>\n",
       "      <th>event_id</th>\n",
       "      <th>device_id</th>\n",
       "      <th>timestamp</th>\n",
       "      <th>longitude</th>\n",
       "      <th>latitude</th>\n",
       "      <th>city</th>\n",
       "      <th>state</th>\n",
       "    </tr>\n",
       "  </thead>\n",
       "  <tbody>\n",
       "    <tr>\n",
       "      <th>23808</th>\n",
       "      <td>72957.0</td>\n",
       "      <td>NaN</td>\n",
       "      <td>2016-05-03 06:10:14</td>\n",
       "      <td>77.303153</td>\n",
       "      <td>28.728888</td>\n",
       "      <td>Delhi</td>\n",
       "      <td>Delhi</td>\n",
       "    </tr>\n",
       "    <tr>\n",
       "      <th>23820</th>\n",
       "      <td>78897.0</td>\n",
       "      <td>NaN</td>\n",
       "      <td>2016-05-02 11:25:47</td>\n",
       "      <td>77.303153</td>\n",
       "      <td>28.728888</td>\n",
       "      <td>Delhi</td>\n",
       "      <td>Delhi</td>\n",
       "    </tr>\n",
       "    <tr>\n",
       "      <th>23831</th>\n",
       "      <td>94768.0</td>\n",
       "      <td>NaN</td>\n",
       "      <td>2016-05-02 17:39:12</td>\n",
       "      <td>77.303153</td>\n",
       "      <td>28.728888</td>\n",
       "      <td>Delhi</td>\n",
       "      <td>Delhi</td>\n",
       "    </tr>\n",
       "    <tr>\n",
       "      <th>23852</th>\n",
       "      <td>127677.0</td>\n",
       "      <td>NaN</td>\n",
       "      <td>2016-05-01 10:06:53</td>\n",
       "      <td>77.303153</td>\n",
       "      <td>28.728888</td>\n",
       "      <td>Delhi</td>\n",
       "      <td>Delhi</td>\n",
       "    </tr>\n",
       "    <tr>\n",
       "      <th>24093</th>\n",
       "      <td>442470.0</td>\n",
       "      <td>NaN</td>\n",
       "      <td>2016-05-07 09:03:18</td>\n",
       "      <td>77.303153</td>\n",
       "      <td>28.728888</td>\n",
       "      <td>Delhi</td>\n",
       "      <td>Delhi</td>\n",
       "    </tr>\n",
       "    <tr>\n",
       "      <th>...</th>\n",
       "      <td>...</td>\n",
       "      <td>...</td>\n",
       "      <td>...</td>\n",
       "      <td>...</td>\n",
       "      <td>...</td>\n",
       "      <td>...</td>\n",
       "      <td>...</td>\n",
       "    </tr>\n",
       "    <tr>\n",
       "      <th>3098746</th>\n",
       "      <td>1882296.0</td>\n",
       "      <td>NaN</td>\n",
       "      <td>2016-05-01 13:17:54</td>\n",
       "      <td>73.169345</td>\n",
       "      <td>21.194283</td>\n",
       "      <td>Bardoli</td>\n",
       "      <td>Gujarat</td>\n",
       "    </tr>\n",
       "    <tr>\n",
       "      <th>3098757</th>\n",
       "      <td>1952481.0</td>\n",
       "      <td>NaN</td>\n",
       "      <td>2016-05-05 00:53:42</td>\n",
       "      <td>73.169345</td>\n",
       "      <td>21.194283</td>\n",
       "      <td>Bardoli</td>\n",
       "      <td>Gujarat</td>\n",
       "    </tr>\n",
       "    <tr>\n",
       "      <th>3098801</th>\n",
       "      <td>2235564.0</td>\n",
       "      <td>NaN</td>\n",
       "      <td>2016-05-01 12:43:58</td>\n",
       "      <td>73.169345</td>\n",
       "      <td>21.194283</td>\n",
       "      <td>Bardoli</td>\n",
       "      <td>Gujarat</td>\n",
       "    </tr>\n",
       "    <tr>\n",
       "      <th>3098833</th>\n",
       "      <td>2452592.0</td>\n",
       "      <td>NaN</td>\n",
       "      <td>2016-05-02 13:34:20</td>\n",
       "      <td>73.169345</td>\n",
       "      <td>21.194283</td>\n",
       "      <td>Bardoli</td>\n",
       "      <td>Gujarat</td>\n",
       "    </tr>\n",
       "    <tr>\n",
       "      <th>3098901</th>\n",
       "      <td>3050759.0</td>\n",
       "      <td>NaN</td>\n",
       "      <td>2016-05-05 01:02:21</td>\n",
       "      <td>73.169345</td>\n",
       "      <td>21.194283</td>\n",
       "      <td>Bardoli</td>\n",
       "      <td>Gujarat</td>\n",
       "    </tr>\n",
       "  </tbody>\n",
       "</table>\n",
       "<p>453 rows × 7 columns</p>\n",
       "</div>"
      ],
      "text/plain": [
       "          event_id  device_id            timestamp  longitude   latitude  \\\n",
       "23808      72957.0        NaN  2016-05-03 06:10:14  77.303153  28.728888   \n",
       "23820      78897.0        NaN  2016-05-02 11:25:47  77.303153  28.728888   \n",
       "23831      94768.0        NaN  2016-05-02 17:39:12  77.303153  28.728888   \n",
       "23852     127677.0        NaN  2016-05-01 10:06:53  77.303153  28.728888   \n",
       "24093     442470.0        NaN  2016-05-07 09:03:18  77.303153  28.728888   \n",
       "...            ...        ...                  ...        ...        ...   \n",
       "3098746  1882296.0        NaN  2016-05-01 13:17:54  73.169345  21.194283   \n",
       "3098757  1952481.0        NaN  2016-05-05 00:53:42  73.169345  21.194283   \n",
       "3098801  2235564.0        NaN  2016-05-01 12:43:58  73.169345  21.194283   \n",
       "3098833  2452592.0        NaN  2016-05-02 13:34:20  73.169345  21.194283   \n",
       "3098901  3050759.0        NaN  2016-05-05 01:02:21  73.169345  21.194283   \n",
       "\n",
       "            city    state  \n",
       "23808      Delhi    Delhi  \n",
       "23820      Delhi    Delhi  \n",
       "23831      Delhi    Delhi  \n",
       "23852      Delhi    Delhi  \n",
       "24093      Delhi    Delhi  \n",
       "...          ...      ...  \n",
       "3098746  Bardoli  Gujarat  \n",
       "3098757  Bardoli  Gujarat  \n",
       "3098801  Bardoli  Gujarat  \n",
       "3098833  Bardoli  Gujarat  \n",
       "3098901  Bardoli  Gujarat  \n",
       "\n",
       "[453 rows x 7 columns]"
      ]
     },
     "execution_count": 154,
     "metadata": {},
     "output_type": "execute_result"
    }
   ],
   "source": [
    "event_data[event_data.device_id.isnull()]"
   ]
  },
  {
   "cell_type": "code",
   "execution_count": 155,
   "metadata": {},
   "outputs": [
    {
     "data": {
      "text/html": [
       "<div>\n",
       "<style scoped>\n",
       "    .dataframe tbody tr th:only-of-type {\n",
       "        vertical-align: middle;\n",
       "    }\n",
       "\n",
       "    .dataframe tbody tr th {\n",
       "        vertical-align: top;\n",
       "    }\n",
       "\n",
       "    .dataframe thead th {\n",
       "        text-align: right;\n",
       "    }\n",
       "</style>\n",
       "<table border=\"1\" class=\"dataframe\">\n",
       "  <thead>\n",
       "    <tr style=\"text-align: right;\">\n",
       "      <th></th>\n",
       "      <th>event_id</th>\n",
       "      <th>device_id</th>\n",
       "      <th>timestamp</th>\n",
       "      <th>longitude</th>\n",
       "      <th>latitude</th>\n",
       "      <th>city</th>\n",
       "      <th>state</th>\n",
       "    </tr>\n",
       "  </thead>\n",
       "  <tbody>\n",
       "    <tr>\n",
       "      <th>0</th>\n",
       "      <td>1.0</td>\n",
       "      <td>2.918269e+16</td>\n",
       "      <td>2016-05-01 00:55:25</td>\n",
       "      <td>77.266049</td>\n",
       "      <td>28.681610</td>\n",
       "      <td>Delhi</td>\n",
       "      <td>Delhi</td>\n",
       "    </tr>\n",
       "    <tr>\n",
       "      <th>1</th>\n",
       "      <td>7104.0</td>\n",
       "      <td>2.918269e+16</td>\n",
       "      <td>2016-05-02 09:37:02</td>\n",
       "      <td>77.266049</td>\n",
       "      <td>28.681610</td>\n",
       "      <td>Delhi</td>\n",
       "      <td>Delhi</td>\n",
       "    </tr>\n",
       "    <tr>\n",
       "      <th>2</th>\n",
       "      <td>29661.0</td>\n",
       "      <td>2.918269e+16</td>\n",
       "      <td>2016-05-04 00:56:04</td>\n",
       "      <td>77.266049</td>\n",
       "      <td>28.681610</td>\n",
       "      <td>Delhi</td>\n",
       "      <td>Delhi</td>\n",
       "    </tr>\n",
       "    <tr>\n",
       "      <th>3</th>\n",
       "      <td>33133.0</td>\n",
       "      <td>2.918269e+16</td>\n",
       "      <td>2016-05-06 05:01:15</td>\n",
       "      <td>77.266049</td>\n",
       "      <td>28.681610</td>\n",
       "      <td>Delhi</td>\n",
       "      <td>Delhi</td>\n",
       "    </tr>\n",
       "    <tr>\n",
       "      <th>4</th>\n",
       "      <td>38980.0</td>\n",
       "      <td>2.918269e+16</td>\n",
       "      <td>2016-05-06 09:55:04</td>\n",
       "      <td>77.266049</td>\n",
       "      <td>28.681610</td>\n",
       "      <td>Delhi</td>\n",
       "      <td>Delhi</td>\n",
       "    </tr>\n",
       "    <tr>\n",
       "      <th>...</th>\n",
       "      <td>...</td>\n",
       "      <td>...</td>\n",
       "      <td>...</td>\n",
       "      <td>...</td>\n",
       "      <td>...</td>\n",
       "      <td>...</td>\n",
       "      <td>...</td>\n",
       "    </tr>\n",
       "    <tr>\n",
       "      <th>3252945</th>\n",
       "      <td>3241600.0</td>\n",
       "      <td>6.057196e+18</td>\n",
       "      <td>2016-05-04 17:51:29</td>\n",
       "      <td>76.437031</td>\n",
       "      <td>14.328436</td>\n",
       "      <td>Chitradurga</td>\n",
       "      <td>Karnataka</td>\n",
       "    </tr>\n",
       "    <tr>\n",
       "      <th>3252946</th>\n",
       "      <td>3241929.0</td>\n",
       "      <td>8.855298e+18</td>\n",
       "      <td>2016-05-05 17:05:08</td>\n",
       "      <td>88.131884</td>\n",
       "      <td>24.551253</td>\n",
       "      <td>Jangipur</td>\n",
       "      <td>WestBengal</td>\n",
       "    </tr>\n",
       "    <tr>\n",
       "      <th>3252947</th>\n",
       "      <td>3242387.0</td>\n",
       "      <td>1.734091e+18</td>\n",
       "      <td>2016-05-07 17:17:27</td>\n",
       "      <td>86.538832</td>\n",
       "      <td>25.542353</td>\n",
       "      <td>Khagaria</td>\n",
       "      <td>Bihar</td>\n",
       "    </tr>\n",
       "    <tr>\n",
       "      <th>3252948</th>\n",
       "      <td>3248517.0</td>\n",
       "      <td>7.886185e+18</td>\n",
       "      <td>2016-05-04 21:35:09</td>\n",
       "      <td>88.428472</td>\n",
       "      <td>22.731814</td>\n",
       "      <td>Bally</td>\n",
       "      <td>WestBengal</td>\n",
       "    </tr>\n",
       "    <tr>\n",
       "      <th>3252949</th>\n",
       "      <td>3251669.0</td>\n",
       "      <td>-8.448990e+18</td>\n",
       "      <td>2016-05-02 23:34:42</td>\n",
       "      <td>72.140981</td>\n",
       "      <td>21.862590</td>\n",
       "      <td>Bhavnagar</td>\n",
       "      <td>Gujarat</td>\n",
       "    </tr>\n",
       "  </tbody>\n",
       "</table>\n",
       "<p>3252497 rows × 7 columns</p>\n",
       "</div>"
      ],
      "text/plain": [
       "          event_id     device_id            timestamp  longitude   latitude  \\\n",
       "0              1.0  2.918269e+16  2016-05-01 00:55:25  77.266049  28.681610   \n",
       "1           7104.0  2.918269e+16  2016-05-02 09:37:02  77.266049  28.681610   \n",
       "2          29661.0  2.918269e+16  2016-05-04 00:56:04  77.266049  28.681610   \n",
       "3          33133.0  2.918269e+16  2016-05-06 05:01:15  77.266049  28.681610   \n",
       "4          38980.0  2.918269e+16  2016-05-06 09:55:04  77.266049  28.681610   \n",
       "...            ...           ...                  ...        ...        ...   \n",
       "3252945  3241600.0  6.057196e+18  2016-05-04 17:51:29  76.437031  14.328436   \n",
       "3252946  3241929.0  8.855298e+18  2016-05-05 17:05:08  88.131884  24.551253   \n",
       "3252947  3242387.0  1.734091e+18  2016-05-07 17:17:27  86.538832  25.542353   \n",
       "3252948  3248517.0  7.886185e+18  2016-05-04 21:35:09  88.428472  22.731814   \n",
       "3252949  3251669.0 -8.448990e+18  2016-05-02 23:34:42  72.140981  21.862590   \n",
       "\n",
       "                city       state  \n",
       "0              Delhi       Delhi  \n",
       "1              Delhi       Delhi  \n",
       "2              Delhi       Delhi  \n",
       "3              Delhi       Delhi  \n",
       "4              Delhi       Delhi  \n",
       "...              ...         ...  \n",
       "3252945  Chitradurga   Karnataka  \n",
       "3252946     Jangipur  WestBengal  \n",
       "3252947     Khagaria       Bihar  \n",
       "3252948        Bally  WestBengal  \n",
       "3252949    Bhavnagar     Gujarat  \n",
       "\n",
       "[3252497 rows x 7 columns]"
      ]
     },
     "execution_count": 155,
     "metadata": {},
     "output_type": "execute_result"
    }
   ],
   "source": [
    "event_data[event_data.device_id.notna()]"
   ]
  },
  {
   "cell_type": "code",
   "execution_count": 18,
   "metadata": {},
   "outputs": [],
   "source": [
    "# Update Device_ids:\n",
    "c = event_data[event_data.device_id.isnull()]\n",
    "d = event_data[event_data.device_id.notna()]\n",
    "for i in range(len(c)):\n",
    "    dev=d[c.iloc[i].latitude == d.latitude].iloc[0].device_id\n",
    "    c.iat[i,1] = dev\n",
    "event_data.loc[event_data.event_id.isin(c.event_id), ['device_id']] = c[['device_id']].values"
   ]
  },
  {
   "cell_type": "code",
   "execution_count": 157,
   "metadata": {},
   "outputs": [
    {
     "data": {
      "text/html": [
       "<div>\n",
       "<style scoped>\n",
       "    .dataframe tbody tr th:only-of-type {\n",
       "        vertical-align: middle;\n",
       "    }\n",
       "\n",
       "    .dataframe tbody tr th {\n",
       "        vertical-align: top;\n",
       "    }\n",
       "\n",
       "    .dataframe thead th {\n",
       "        text-align: right;\n",
       "    }\n",
       "</style>\n",
       "<table border=\"1\" class=\"dataframe\">\n",
       "  <thead>\n",
       "    <tr style=\"text-align: right;\">\n",
       "      <th></th>\n",
       "      <th>event_id</th>\n",
       "      <th>device_id</th>\n",
       "      <th>timestamp</th>\n",
       "      <th>longitude</th>\n",
       "      <th>latitude</th>\n",
       "      <th>city</th>\n",
       "      <th>state</th>\n",
       "    </tr>\n",
       "  </thead>\n",
       "  <tbody>\n",
       "    <tr>\n",
       "      <th>16649</th>\n",
       "      <td>191851.0</td>\n",
       "      <td>-6.242501e+18</td>\n",
       "      <td>2016-05-02 05:50:53</td>\n",
       "      <td>77.293991</td>\n",
       "      <td>28.749820</td>\n",
       "      <td>Delhi</td>\n",
       "      <td>NaN</td>\n",
       "    </tr>\n",
       "    <tr>\n",
       "      <th>16836</th>\n",
       "      <td>341684.0</td>\n",
       "      <td>-6.242501e+18</td>\n",
       "      <td>2016-05-02 08:37:46</td>\n",
       "      <td>77.293991</td>\n",
       "      <td>28.749820</td>\n",
       "      <td>Delhi</td>\n",
       "      <td>NaN</td>\n",
       "    </tr>\n",
       "    <tr>\n",
       "      <th>17247</th>\n",
       "      <td>658755.0</td>\n",
       "      <td>-6.242501e+18</td>\n",
       "      <td>2016-05-02 10:10:57</td>\n",
       "      <td>77.293991</td>\n",
       "      <td>28.749820</td>\n",
       "      <td>Delhi</td>\n",
       "      <td>NaN</td>\n",
       "    </tr>\n",
       "    <tr>\n",
       "      <th>17339</th>\n",
       "      <td>720866.0</td>\n",
       "      <td>-6.242501e+18</td>\n",
       "      <td>2016-05-02 20:55:28</td>\n",
       "      <td>77.293991</td>\n",
       "      <td>28.749820</td>\n",
       "      <td>Delhi</td>\n",
       "      <td>NaN</td>\n",
       "    </tr>\n",
       "    <tr>\n",
       "      <th>17696</th>\n",
       "      <td>983707.0</td>\n",
       "      <td>-6.242501e+18</td>\n",
       "      <td>2016-05-03 10:25:17</td>\n",
       "      <td>77.293991</td>\n",
       "      <td>28.749820</td>\n",
       "      <td>Delhi</td>\n",
       "      <td>NaN</td>\n",
       "    </tr>\n",
       "    <tr>\n",
       "      <th>...</th>\n",
       "      <td>...</td>\n",
       "      <td>...</td>\n",
       "      <td>...</td>\n",
       "      <td>...</td>\n",
       "      <td>...</td>\n",
       "      <td>...</td>\n",
       "      <td>...</td>\n",
       "    </tr>\n",
       "    <tr>\n",
       "      <th>3078315</th>\n",
       "      <td>2805999.0</td>\n",
       "      <td>-5.858653e+18</td>\n",
       "      <td>2016-05-06 14:26:25</td>\n",
       "      <td>88.619418</td>\n",
       "      <td>25.484459</td>\n",
       "      <td>Gangarampur</td>\n",
       "      <td>NaN</td>\n",
       "    </tr>\n",
       "    <tr>\n",
       "      <th>3078335</th>\n",
       "      <td>2873949.0</td>\n",
       "      <td>-5.858653e+18</td>\n",
       "      <td>2016-05-05 08:29:51</td>\n",
       "      <td>88.619418</td>\n",
       "      <td>25.484459</td>\n",
       "      <td>Gangarampur</td>\n",
       "      <td>NaN</td>\n",
       "    </tr>\n",
       "    <tr>\n",
       "      <th>3078359</th>\n",
       "      <td>3057454.0</td>\n",
       "      <td>-5.858653e+18</td>\n",
       "      <td>2016-05-06 07:59:50</td>\n",
       "      <td>88.619418</td>\n",
       "      <td>25.484459</td>\n",
       "      <td>Gangarampur</td>\n",
       "      <td>NaN</td>\n",
       "    </tr>\n",
       "    <tr>\n",
       "      <th>3078372</th>\n",
       "      <td>3109058.0</td>\n",
       "      <td>-5.858653e+18</td>\n",
       "      <td>2016-05-02 08:35:24</td>\n",
       "      <td>88.619418</td>\n",
       "      <td>25.484459</td>\n",
       "      <td>Gangarampur</td>\n",
       "      <td>NaN</td>\n",
       "    </tr>\n",
       "    <tr>\n",
       "      <th>3078387</th>\n",
       "      <td>3188932.0</td>\n",
       "      <td>-5.858653e+18</td>\n",
       "      <td>2016-05-05 08:49:15</td>\n",
       "      <td>88.619418</td>\n",
       "      <td>25.484459</td>\n",
       "      <td>Gangarampur</td>\n",
       "      <td>NaN</td>\n",
       "    </tr>\n",
       "  </tbody>\n",
       "</table>\n",
       "<p>377 rows × 7 columns</p>\n",
       "</div>"
      ],
      "text/plain": [
       "          event_id     device_id            timestamp  longitude   latitude  \\\n",
       "16649     191851.0 -6.242501e+18  2016-05-02 05:50:53  77.293991  28.749820   \n",
       "16836     341684.0 -6.242501e+18  2016-05-02 08:37:46  77.293991  28.749820   \n",
       "17247     658755.0 -6.242501e+18  2016-05-02 10:10:57  77.293991  28.749820   \n",
       "17339     720866.0 -6.242501e+18  2016-05-02 20:55:28  77.293991  28.749820   \n",
       "17696     983707.0 -6.242501e+18  2016-05-03 10:25:17  77.293991  28.749820   \n",
       "...            ...           ...                  ...        ...        ...   \n",
       "3078315  2805999.0 -5.858653e+18  2016-05-06 14:26:25  88.619418  25.484459   \n",
       "3078335  2873949.0 -5.858653e+18  2016-05-05 08:29:51  88.619418  25.484459   \n",
       "3078359  3057454.0 -5.858653e+18  2016-05-06 07:59:50  88.619418  25.484459   \n",
       "3078372  3109058.0 -5.858653e+18  2016-05-02 08:35:24  88.619418  25.484459   \n",
       "3078387  3188932.0 -5.858653e+18  2016-05-05 08:49:15  88.619418  25.484459   \n",
       "\n",
       "                city state  \n",
       "16649          Delhi   NaN  \n",
       "16836          Delhi   NaN  \n",
       "17247          Delhi   NaN  \n",
       "17339          Delhi   NaN  \n",
       "17696          Delhi   NaN  \n",
       "...              ...   ...  \n",
       "3078315  Gangarampur   NaN  \n",
       "3078335  Gangarampur   NaN  \n",
       "3078359  Gangarampur   NaN  \n",
       "3078372  Gangarampur   NaN  \n",
       "3078387  Gangarampur   NaN  \n",
       "\n",
       "[377 rows x 7 columns]"
      ]
     },
     "execution_count": 157,
     "metadata": {},
     "output_type": "execute_result"
    }
   ],
   "source": [
    "event_data[event_data.state.isnull()]"
   ]
  },
  {
   "cell_type": "code",
   "execution_count": 158,
   "metadata": {},
   "outputs": [
    {
     "data": {
      "text/html": [
       "<div>\n",
       "<style scoped>\n",
       "    .dataframe tbody tr th:only-of-type {\n",
       "        vertical-align: middle;\n",
       "    }\n",
       "\n",
       "    .dataframe tbody tr th {\n",
       "        vertical-align: top;\n",
       "    }\n",
       "\n",
       "    .dataframe thead th {\n",
       "        text-align: right;\n",
       "    }\n",
       "</style>\n",
       "<table border=\"1\" class=\"dataframe\">\n",
       "  <thead>\n",
       "    <tr style=\"text-align: right;\">\n",
       "      <th></th>\n",
       "      <th>event_id</th>\n",
       "      <th>device_id</th>\n",
       "      <th>timestamp</th>\n",
       "      <th>longitude</th>\n",
       "      <th>latitude</th>\n",
       "      <th>city</th>\n",
       "      <th>state</th>\n",
       "    </tr>\n",
       "  </thead>\n",
       "  <tbody>\n",
       "    <tr>\n",
       "      <th>0</th>\n",
       "      <td>1.0</td>\n",
       "      <td>2.918269e+16</td>\n",
       "      <td>2016-05-01 00:55:25</td>\n",
       "      <td>77.266049</td>\n",
       "      <td>28.681610</td>\n",
       "      <td>Delhi</td>\n",
       "      <td>Delhi</td>\n",
       "    </tr>\n",
       "    <tr>\n",
       "      <th>1</th>\n",
       "      <td>7104.0</td>\n",
       "      <td>2.918269e+16</td>\n",
       "      <td>2016-05-02 09:37:02</td>\n",
       "      <td>77.266049</td>\n",
       "      <td>28.681610</td>\n",
       "      <td>Delhi</td>\n",
       "      <td>Delhi</td>\n",
       "    </tr>\n",
       "    <tr>\n",
       "      <th>2</th>\n",
       "      <td>29661.0</td>\n",
       "      <td>2.918269e+16</td>\n",
       "      <td>2016-05-04 00:56:04</td>\n",
       "      <td>77.266049</td>\n",
       "      <td>28.681610</td>\n",
       "      <td>Delhi</td>\n",
       "      <td>Delhi</td>\n",
       "    </tr>\n",
       "    <tr>\n",
       "      <th>3</th>\n",
       "      <td>33133.0</td>\n",
       "      <td>2.918269e+16</td>\n",
       "      <td>2016-05-06 05:01:15</td>\n",
       "      <td>77.266049</td>\n",
       "      <td>28.681610</td>\n",
       "      <td>Delhi</td>\n",
       "      <td>Delhi</td>\n",
       "    </tr>\n",
       "    <tr>\n",
       "      <th>4</th>\n",
       "      <td>38980.0</td>\n",
       "      <td>2.918269e+16</td>\n",
       "      <td>2016-05-06 09:55:04</td>\n",
       "      <td>77.266049</td>\n",
       "      <td>28.681610</td>\n",
       "      <td>Delhi</td>\n",
       "      <td>Delhi</td>\n",
       "    </tr>\n",
       "    <tr>\n",
       "      <th>...</th>\n",
       "      <td>...</td>\n",
       "      <td>...</td>\n",
       "      <td>...</td>\n",
       "      <td>...</td>\n",
       "      <td>...</td>\n",
       "      <td>...</td>\n",
       "      <td>...</td>\n",
       "    </tr>\n",
       "    <tr>\n",
       "      <th>3252945</th>\n",
       "      <td>3241600.0</td>\n",
       "      <td>6.057196e+18</td>\n",
       "      <td>2016-05-04 17:51:29</td>\n",
       "      <td>76.437031</td>\n",
       "      <td>14.328436</td>\n",
       "      <td>Chitradurga</td>\n",
       "      <td>Karnataka</td>\n",
       "    </tr>\n",
       "    <tr>\n",
       "      <th>3252946</th>\n",
       "      <td>3241929.0</td>\n",
       "      <td>8.855298e+18</td>\n",
       "      <td>2016-05-05 17:05:08</td>\n",
       "      <td>88.131884</td>\n",
       "      <td>24.551253</td>\n",
       "      <td>Jangipur</td>\n",
       "      <td>WestBengal</td>\n",
       "    </tr>\n",
       "    <tr>\n",
       "      <th>3252947</th>\n",
       "      <td>3242387.0</td>\n",
       "      <td>1.734091e+18</td>\n",
       "      <td>2016-05-07 17:17:27</td>\n",
       "      <td>86.538832</td>\n",
       "      <td>25.542353</td>\n",
       "      <td>Khagaria</td>\n",
       "      <td>Bihar</td>\n",
       "    </tr>\n",
       "    <tr>\n",
       "      <th>3252948</th>\n",
       "      <td>3248517.0</td>\n",
       "      <td>7.886185e+18</td>\n",
       "      <td>2016-05-04 21:35:09</td>\n",
       "      <td>88.428472</td>\n",
       "      <td>22.731814</td>\n",
       "      <td>Bally</td>\n",
       "      <td>WestBengal</td>\n",
       "    </tr>\n",
       "    <tr>\n",
       "      <th>3252949</th>\n",
       "      <td>3251669.0</td>\n",
       "      <td>-8.448990e+18</td>\n",
       "      <td>2016-05-02 23:34:42</td>\n",
       "      <td>72.140981</td>\n",
       "      <td>21.862590</td>\n",
       "      <td>Bhavnagar</td>\n",
       "      <td>Gujarat</td>\n",
       "    </tr>\n",
       "  </tbody>\n",
       "</table>\n",
       "<p>3252573 rows × 7 columns</p>\n",
       "</div>"
      ],
      "text/plain": [
       "          event_id     device_id            timestamp  longitude   latitude  \\\n",
       "0              1.0  2.918269e+16  2016-05-01 00:55:25  77.266049  28.681610   \n",
       "1           7104.0  2.918269e+16  2016-05-02 09:37:02  77.266049  28.681610   \n",
       "2          29661.0  2.918269e+16  2016-05-04 00:56:04  77.266049  28.681610   \n",
       "3          33133.0  2.918269e+16  2016-05-06 05:01:15  77.266049  28.681610   \n",
       "4          38980.0  2.918269e+16  2016-05-06 09:55:04  77.266049  28.681610   \n",
       "...            ...           ...                  ...        ...        ...   \n",
       "3252945  3241600.0  6.057196e+18  2016-05-04 17:51:29  76.437031  14.328436   \n",
       "3252946  3241929.0  8.855298e+18  2016-05-05 17:05:08  88.131884  24.551253   \n",
       "3252947  3242387.0  1.734091e+18  2016-05-07 17:17:27  86.538832  25.542353   \n",
       "3252948  3248517.0  7.886185e+18  2016-05-04 21:35:09  88.428472  22.731814   \n",
       "3252949  3251669.0 -8.448990e+18  2016-05-02 23:34:42  72.140981  21.862590   \n",
       "\n",
       "                city       state  \n",
       "0              Delhi       Delhi  \n",
       "1              Delhi       Delhi  \n",
       "2              Delhi       Delhi  \n",
       "3              Delhi       Delhi  \n",
       "4              Delhi       Delhi  \n",
       "...              ...         ...  \n",
       "3252945  Chitradurga   Karnataka  \n",
       "3252946     Jangipur  WestBengal  \n",
       "3252947     Khagaria       Bihar  \n",
       "3252948        Bally  WestBengal  \n",
       "3252949    Bhavnagar     Gujarat  \n",
       "\n",
       "[3252573 rows x 7 columns]"
      ]
     },
     "execution_count": 158,
     "metadata": {},
     "output_type": "execute_result"
    }
   ],
   "source": [
    "event_data[event_data.state.notna()]"
   ]
  },
  {
   "cell_type": "code",
   "execution_count": 19,
   "metadata": {},
   "outputs": [],
   "source": [
    "# Update missing states:\n",
    "e = event_data[event_data.state.isnull()]\n",
    "f = event_data[event_data.state.notna()]\n",
    "for i in range(len(e)):\n",
    "    st=f[e.iloc[i].city == f.city].iloc[0].state\n",
    "    e.iat[i,6] = st\n",
    "event_data.loc[event_data.event_id.isin(e.event_id), ['state']] = e[['state']].values"
   ]
  },
  {
   "cell_type": "code",
   "execution_count": 20,
   "metadata": {},
   "outputs": [
    {
     "data": {
      "text/plain": [
       "state        0\n",
       "city         0\n",
       "latitude     0\n",
       "longitude    0\n",
       "timestamp    0\n",
       "device_id    0\n",
       "event_id     0\n",
       "dtype: int64"
      ]
     },
     "execution_count": 20,
     "metadata": {},
     "output_type": "execute_result"
    }
   ],
   "source": [
    "event_data.isnull().sum().sort_values(ascending = False)"
   ]
  },
  {
   "cell_type": "code",
   "execution_count": 21,
   "metadata": {},
   "outputs": [],
   "source": [
    "# Remove temporary variables\n",
    "del a,b,c,d,e,f"
   ]
  },
  {
   "cell_type": "code",
   "execution_count": 327,
   "metadata": {},
   "outputs": [],
   "source": [
    "#event_data['device_id'] = event_data['device_id'].values.astype('int64')"
   ]
  },
  {
   "cell_type": "code",
   "execution_count": 22,
   "metadata": {},
   "outputs": [],
   "source": [
    "#collate data from all three dataframes into one, keeping 'device_id', the only common parameter across all dfs as index.\n",
    "# First collate events_data with gender_age\n",
    "cols = ['device_id']\n",
    "event_gender = event_data.join(gender_age.set_index(cols), on=cols)"
   ]
  },
  {
   "cell_type": "code",
   "execution_count": 23,
   "metadata": {
    "scrolled": true
   },
   "outputs": [
    {
     "data": {
      "text/html": [
       "<div>\n",
       "<style scoped>\n",
       "    .dataframe tbody tr th:only-of-type {\n",
       "        vertical-align: middle;\n",
       "    }\n",
       "\n",
       "    .dataframe tbody tr th {\n",
       "        vertical-align: top;\n",
       "    }\n",
       "\n",
       "    .dataframe thead th {\n",
       "        text-align: right;\n",
       "    }\n",
       "</style>\n",
       "<table border=\"1\" class=\"dataframe\">\n",
       "  <thead>\n",
       "    <tr style=\"text-align: right;\">\n",
       "      <th></th>\n",
       "      <th>event_id</th>\n",
       "      <th>device_id</th>\n",
       "      <th>timestamp</th>\n",
       "      <th>longitude</th>\n",
       "      <th>latitude</th>\n",
       "      <th>city</th>\n",
       "      <th>state</th>\n",
       "      <th>gender</th>\n",
       "      <th>age</th>\n",
       "      <th>group</th>\n",
       "    </tr>\n",
       "  </thead>\n",
       "  <tbody>\n",
       "    <tr>\n",
       "      <th>0</th>\n",
       "      <td>1.0</td>\n",
       "      <td>2.918269e+16</td>\n",
       "      <td>2016-05-01 00:55:25</td>\n",
       "      <td>77.266049</td>\n",
       "      <td>28.68161</td>\n",
       "      <td>Delhi</td>\n",
       "      <td>Delhi</td>\n",
       "      <td>M</td>\n",
       "      <td>46.0</td>\n",
       "      <td>M39+</td>\n",
       "    </tr>\n",
       "    <tr>\n",
       "      <th>1</th>\n",
       "      <td>7104.0</td>\n",
       "      <td>2.918269e+16</td>\n",
       "      <td>2016-05-02 09:37:02</td>\n",
       "      <td>77.266049</td>\n",
       "      <td>28.68161</td>\n",
       "      <td>Delhi</td>\n",
       "      <td>Delhi</td>\n",
       "      <td>M</td>\n",
       "      <td>46.0</td>\n",
       "      <td>M39+</td>\n",
       "    </tr>\n",
       "    <tr>\n",
       "      <th>2</th>\n",
       "      <td>29661.0</td>\n",
       "      <td>2.918269e+16</td>\n",
       "      <td>2016-05-04 00:56:04</td>\n",
       "      <td>77.266049</td>\n",
       "      <td>28.68161</td>\n",
       "      <td>Delhi</td>\n",
       "      <td>Delhi</td>\n",
       "      <td>M</td>\n",
       "      <td>46.0</td>\n",
       "      <td>M39+</td>\n",
       "    </tr>\n",
       "  </tbody>\n",
       "</table>\n",
       "</div>"
      ],
      "text/plain": [
       "   event_id     device_id            timestamp  longitude  latitude   city  \\\n",
       "0       1.0  2.918269e+16  2016-05-01 00:55:25  77.266049  28.68161  Delhi   \n",
       "1    7104.0  2.918269e+16  2016-05-02 09:37:02  77.266049  28.68161  Delhi   \n",
       "2   29661.0  2.918269e+16  2016-05-04 00:56:04  77.266049  28.68161  Delhi   \n",
       "\n",
       "   state gender   age group  \n",
       "0  Delhi      M  46.0  M39+  \n",
       "1  Delhi      M  46.0  M39+  \n",
       "2  Delhi      M  46.0  M39+  "
      ]
     },
     "execution_count": 23,
     "metadata": {},
     "output_type": "execute_result"
    }
   ],
   "source": [
    "event_gender.head(3)"
   ]
  },
  {
   "cell_type": "code",
   "execution_count": 24,
   "metadata": {},
   "outputs": [
    {
     "data": {
      "text/plain": [
       "(3252950, 10)"
      ]
     },
     "execution_count": 24,
     "metadata": {},
     "output_type": "execute_result"
    }
   ],
   "source": [
    "event_gender.shape"
   ]
  },
  {
   "cell_type": "code",
   "execution_count": 25,
   "metadata": {},
   "outputs": [],
   "source": [
    "# Next event_gender with phone-brand\n",
    "cols = ['device_id']\n",
    "event_gender_phone = event_gender.join(phone_brand.set_index(cols), on=cols)"
   ]
  },
  {
   "cell_type": "code",
   "execution_count": 26,
   "metadata": {},
   "outputs": [
    {
     "data": {
      "text/html": [
       "<div>\n",
       "<style scoped>\n",
       "    .dataframe tbody tr th:only-of-type {\n",
       "        vertical-align: middle;\n",
       "    }\n",
       "\n",
       "    .dataframe tbody tr th {\n",
       "        vertical-align: top;\n",
       "    }\n",
       "\n",
       "    .dataframe thead th {\n",
       "        text-align: right;\n",
       "    }\n",
       "</style>\n",
       "<table border=\"1\" class=\"dataframe\">\n",
       "  <thead>\n",
       "    <tr style=\"text-align: right;\">\n",
       "      <th></th>\n",
       "      <th>event_id</th>\n",
       "      <th>device_id</th>\n",
       "      <th>timestamp</th>\n",
       "      <th>longitude</th>\n",
       "      <th>latitude</th>\n",
       "      <th>city</th>\n",
       "      <th>state</th>\n",
       "      <th>gender</th>\n",
       "      <th>age</th>\n",
       "      <th>group</th>\n",
       "      <th>phone_brand</th>\n",
       "      <th>device_model</th>\n",
       "    </tr>\n",
       "  </thead>\n",
       "  <tbody>\n",
       "    <tr>\n",
       "      <th>0</th>\n",
       "      <td>1.0</td>\n",
       "      <td>2.918269e+16</td>\n",
       "      <td>2016-05-01 00:55:25</td>\n",
       "      <td>77.266049</td>\n",
       "      <td>28.68161</td>\n",
       "      <td>Delhi</td>\n",
       "      <td>Delhi</td>\n",
       "      <td>M</td>\n",
       "      <td>46.0</td>\n",
       "      <td>M39+</td>\n",
       "      <td>小米</td>\n",
       "      <td>红米note</td>\n",
       "    </tr>\n",
       "    <tr>\n",
       "      <th>1</th>\n",
       "      <td>7104.0</td>\n",
       "      <td>2.918269e+16</td>\n",
       "      <td>2016-05-02 09:37:02</td>\n",
       "      <td>77.266049</td>\n",
       "      <td>28.68161</td>\n",
       "      <td>Delhi</td>\n",
       "      <td>Delhi</td>\n",
       "      <td>M</td>\n",
       "      <td>46.0</td>\n",
       "      <td>M39+</td>\n",
       "      <td>小米</td>\n",
       "      <td>红米note</td>\n",
       "    </tr>\n",
       "    <tr>\n",
       "      <th>2</th>\n",
       "      <td>29661.0</td>\n",
       "      <td>2.918269e+16</td>\n",
       "      <td>2016-05-04 00:56:04</td>\n",
       "      <td>77.266049</td>\n",
       "      <td>28.68161</td>\n",
       "      <td>Delhi</td>\n",
       "      <td>Delhi</td>\n",
       "      <td>M</td>\n",
       "      <td>46.0</td>\n",
       "      <td>M39+</td>\n",
       "      <td>小米</td>\n",
       "      <td>红米note</td>\n",
       "    </tr>\n",
       "    <tr>\n",
       "      <th>3</th>\n",
       "      <td>33133.0</td>\n",
       "      <td>2.918269e+16</td>\n",
       "      <td>2016-05-06 05:01:15</td>\n",
       "      <td>77.266049</td>\n",
       "      <td>28.68161</td>\n",
       "      <td>Delhi</td>\n",
       "      <td>Delhi</td>\n",
       "      <td>M</td>\n",
       "      <td>46.0</td>\n",
       "      <td>M39+</td>\n",
       "      <td>小米</td>\n",
       "      <td>红米note</td>\n",
       "    </tr>\n",
       "    <tr>\n",
       "      <th>4</th>\n",
       "      <td>38980.0</td>\n",
       "      <td>2.918269e+16</td>\n",
       "      <td>2016-05-06 09:55:04</td>\n",
       "      <td>77.266049</td>\n",
       "      <td>28.68161</td>\n",
       "      <td>Delhi</td>\n",
       "      <td>Delhi</td>\n",
       "      <td>M</td>\n",
       "      <td>46.0</td>\n",
       "      <td>M39+</td>\n",
       "      <td>小米</td>\n",
       "      <td>红米note</td>\n",
       "    </tr>\n",
       "  </tbody>\n",
       "</table>\n",
       "</div>"
      ],
      "text/plain": [
       "   event_id     device_id            timestamp  longitude  latitude   city  \\\n",
       "0       1.0  2.918269e+16  2016-05-01 00:55:25  77.266049  28.68161  Delhi   \n",
       "1    7104.0  2.918269e+16  2016-05-02 09:37:02  77.266049  28.68161  Delhi   \n",
       "2   29661.0  2.918269e+16  2016-05-04 00:56:04  77.266049  28.68161  Delhi   \n",
       "3   33133.0  2.918269e+16  2016-05-06 05:01:15  77.266049  28.68161  Delhi   \n",
       "4   38980.0  2.918269e+16  2016-05-06 09:55:04  77.266049  28.68161  Delhi   \n",
       "\n",
       "   state gender   age group phone_brand device_model  \n",
       "0  Delhi      M  46.0  M39+          小米       红米note  \n",
       "1  Delhi      M  46.0  M39+          小米       红米note  \n",
       "2  Delhi      M  46.0  M39+          小米       红米note  \n",
       "3  Delhi      M  46.0  M39+          小米       红米note  \n",
       "4  Delhi      M  46.0  M39+          小米       红米note  "
      ]
     },
     "execution_count": 26,
     "metadata": {},
     "output_type": "execute_result"
    }
   ],
   "source": [
    "event_gender_phone.head()"
   ]
  },
  {
   "cell_type": "code",
   "execution_count": 27,
   "metadata": {},
   "outputs": [
    {
     "data": {
      "text/plain": [
       "(87726, 3)"
      ]
     },
     "execution_count": 27,
     "metadata": {},
     "output_type": "execute_result"
    }
   ],
   "source": [
    "phone_brand.shape"
   ]
  },
  {
   "cell_type": "code",
   "execution_count": 28,
   "metadata": {},
   "outputs": [
    {
     "data": {
      "text/plain": [
       "device_model    839394\n",
       "phone_brand     839394\n",
       "group           839394\n",
       "age             839394\n",
       "gender          839394\n",
       "state                0\n",
       "city                 0\n",
       "latitude             0\n",
       "longitude            0\n",
       "timestamp            0\n",
       "device_id            0\n",
       "event_id             0\n",
       "dtype: int64"
      ]
     },
     "execution_count": 28,
     "metadata": {},
     "output_type": "execute_result"
    }
   ],
   "source": [
    "# Check for nulls in this dataframe\n",
    "event_gender_phone.isnull().sum().sort_values(ascending = False)"
   ]
  },
  {
   "cell_type": "code",
   "execution_count": 29,
   "metadata": {},
   "outputs": [],
   "source": [
    "event_gender_phone[\"phone_brand\"].fillna(\"Not_Available\", inplace = True) \n",
    "event_gender_phone[\"device_model\"].fillna(\"Not_Available\", inplace = True) \n",
    "event_gender_phone[\"group\"].fillna(\"Not_Available\", inplace = True) \n",
    "event_gender_phone[\"age\"].fillna(\"Not_Available\", inplace = True) \n",
    "event_gender_phone[\"gender\"].fillna(\"Not_Available\", inplace = True) "
   ]
  },
  {
   "cell_type": "code",
   "execution_count": 30,
   "metadata": {},
   "outputs": [
    {
     "data": {
      "text/plain": [
       "device_model    0\n",
       "phone_brand     0\n",
       "group           0\n",
       "age             0\n",
       "gender          0\n",
       "state           0\n",
       "city            0\n",
       "latitude        0\n",
       "longitude       0\n",
       "timestamp       0\n",
       "device_id       0\n",
       "event_id        0\n",
       "dtype: int64"
      ]
     },
     "execution_count": 30,
     "metadata": {},
     "output_type": "execute_result"
    }
   ],
   "source": [
    "# Check for nulls in this dataframe\n",
    "event_gender_phone.isnull().sum().sort_values(ascending = False)"
   ]
  },
  {
   "cell_type": "code",
   "execution_count": 31,
   "metadata": {},
   "outputs": [
    {
     "data": {
      "text/plain": [
       "(3252950, 12)"
      ]
     },
     "execution_count": 31,
     "metadata": {},
     "output_type": "execute_result"
    }
   ],
   "source": [
    "event_gender_phone.shape"
   ]
  },
  {
   "cell_type": "code",
   "execution_count": 32,
   "metadata": {},
   "outputs": [],
   "source": [
    "# drop duplicate device_ids (considering device_id as one user-id)\n",
    "event_gender_phone.drop_duplicates(subset =\"device_id\",keep = False, inplace = True)"
   ]
  },
  {
   "cell_type": "code",
   "execution_count": 33,
   "metadata": {},
   "outputs": [
    {
     "data": {
      "text/plain": [
       "(6317, 12)"
      ]
     },
     "execution_count": 33,
     "metadata": {},
     "output_type": "execute_result"
    }
   ],
   "source": [
    "event_gender_phone.shape"
   ]
  },
  {
   "cell_type": "code",
   "execution_count": 53,
   "metadata": {},
   "outputs": [],
   "source": [
    "# Create a frame with only relevant states:\n",
    "df = event_gender_phone.copy()\n",
    "a = ['Telangana','Rajasthan','UttarPradesh','Orissa','Haryana','Jharkhand','Assam']\n",
    "df = df[df['state'].isin(a)]\n",
    "# Save the final dataframe for uploading\n",
    "df.to_csv(\"C:/Users/sphoo/Veena-INSAID/CAPSTONE1/event_gender_phone_states4.csv\", index=None)"
   ]
  },
  {
   "cell_type": "code",
   "execution_count": 54,
   "metadata": {},
   "outputs": [
    {
     "data": {
      "text/html": [
       "<div>\n",
       "<style scoped>\n",
       "    .dataframe tbody tr th:only-of-type {\n",
       "        vertical-align: middle;\n",
       "    }\n",
       "\n",
       "    .dataframe tbody tr th {\n",
       "        vertical-align: top;\n",
       "    }\n",
       "\n",
       "    .dataframe thead th {\n",
       "        text-align: right;\n",
       "    }\n",
       "</style>\n",
       "<table border=\"1\" class=\"dataframe\">\n",
       "  <thead>\n",
       "    <tr style=\"text-align: right;\">\n",
       "      <th></th>\n",
       "      <th>event_id</th>\n",
       "      <th>device_id</th>\n",
       "      <th>timestamp</th>\n",
       "      <th>longitude</th>\n",
       "      <th>latitude</th>\n",
       "      <th>city</th>\n",
       "      <th>state</th>\n",
       "      <th>gender</th>\n",
       "      <th>age</th>\n",
       "      <th>group</th>\n",
       "      <th>phone_brand</th>\n",
       "      <th>device_model</th>\n",
       "    </tr>\n",
       "  </thead>\n",
       "  <tbody>\n",
       "    <tr>\n",
       "      <th>2459026</th>\n",
       "      <td>617393.0</td>\n",
       "      <td>3508989809324087808</td>\n",
       "      <td>2016-05-02 00:44:50</td>\n",
       "      <td>78.510305</td>\n",
       "      <td>17.482147</td>\n",
       "      <td>Hyderabad</td>\n",
       "      <td>Telangana</td>\n",
       "      <td>Not_Available</td>\n",
       "      <td>Not_Available</td>\n",
       "      <td>Not_Available</td>\n",
       "      <td>Not_Available</td>\n",
       "      <td>Not_Available</td>\n",
       "    </tr>\n",
       "    <tr>\n",
       "      <th>2459204</th>\n",
       "      <td>622851.0</td>\n",
       "      <td>4623214080956558336</td>\n",
       "      <td>2016-05-02 07:49:58</td>\n",
       "      <td>78.528364</td>\n",
       "      <td>17.433518</td>\n",
       "      <td>Hyderabad</td>\n",
       "      <td>Telangana</td>\n",
       "      <td>F</td>\n",
       "      <td>28</td>\n",
       "      <td>F27-28</td>\n",
       "      <td>华为</td>\n",
       "      <td>荣耀3C</td>\n",
       "    </tr>\n",
       "    <tr>\n",
       "      <th>2459296</th>\n",
       "      <td>625079.0</td>\n",
       "      <td>8618343247036183552</td>\n",
       "      <td>2016-05-06 08:22:19</td>\n",
       "      <td>78.503329</td>\n",
       "      <td>17.487031</td>\n",
       "      <td>Hyderabad</td>\n",
       "      <td>Telangana</td>\n",
       "      <td>F</td>\n",
       "      <td>66</td>\n",
       "      <td>F43+</td>\n",
       "      <td>vivo</td>\n",
       "      <td>Y13</td>\n",
       "    </tr>\n",
       "    <tr>\n",
       "      <th>2459477</th>\n",
       "      <td>629002.0</td>\n",
       "      <td>6349139484226491392</td>\n",
       "      <td>2016-05-07 10:40:30</td>\n",
       "      <td>78.528845</td>\n",
       "      <td>17.470551</td>\n",
       "      <td>Hyderabad</td>\n",
       "      <td>Telangana</td>\n",
       "      <td>M</td>\n",
       "      <td>27</td>\n",
       "      <td>M27-28</td>\n",
       "      <td>三星</td>\n",
       "      <td>Galaxy A7</td>\n",
       "    </tr>\n",
       "    <tr>\n",
       "      <th>2459497</th>\n",
       "      <td>629522.0</td>\n",
       "      <td>-7591511241211994112</td>\n",
       "      <td>2016-05-03 11:13:37</td>\n",
       "      <td>78.565084</td>\n",
       "      <td>17.497934</td>\n",
       "      <td>Hyderabad</td>\n",
       "      <td>Telangana</td>\n",
       "      <td>M</td>\n",
       "      <td>44</td>\n",
       "      <td>M39+</td>\n",
       "      <td>小米</td>\n",
       "      <td>MI 4</td>\n",
       "    </tr>\n",
       "  </tbody>\n",
       "</table>\n",
       "</div>"
      ],
      "text/plain": [
       "         event_id            device_id            timestamp  longitude  \\\n",
       "2459026  617393.0  3508989809324087808  2016-05-02 00:44:50  78.510305   \n",
       "2459204  622851.0  4623214080956558336  2016-05-02 07:49:58  78.528364   \n",
       "2459296  625079.0  8618343247036183552  2016-05-06 08:22:19  78.503329   \n",
       "2459477  629002.0  6349139484226491392  2016-05-07 10:40:30  78.528845   \n",
       "2459497  629522.0 -7591511241211994112  2016-05-03 11:13:37  78.565084   \n",
       "\n",
       "          latitude       city      state         gender            age  \\\n",
       "2459026  17.482147  Hyderabad  Telangana  Not_Available  Not_Available   \n",
       "2459204  17.433518  Hyderabad  Telangana              F             28   \n",
       "2459296  17.487031  Hyderabad  Telangana              F             66   \n",
       "2459477  17.470551  Hyderabad  Telangana              M             27   \n",
       "2459497  17.497934  Hyderabad  Telangana              M             44   \n",
       "\n",
       "                 group    phone_brand   device_model  \n",
       "2459026  Not_Available  Not_Available  Not_Available  \n",
       "2459204         F27-28             华为           荣耀3C  \n",
       "2459296           F43+           vivo            Y13  \n",
       "2459477         M27-28             三星      Galaxy A7  \n",
       "2459497           M39+             小米           MI 4  "
      ]
     },
     "execution_count": 54,
     "metadata": {},
     "output_type": "execute_result"
    }
   ],
   "source": [
    "df.head()"
   ]
  },
  {
   "cell_type": "code",
   "execution_count": 38,
   "metadata": {},
   "outputs": [
    {
     "data": {
      "text/html": [
       "<div>\n",
       "<style scoped>\n",
       "    .dataframe tbody tr th:only-of-type {\n",
       "        vertical-align: middle;\n",
       "    }\n",
       "\n",
       "    .dataframe tbody tr th {\n",
       "        vertical-align: top;\n",
       "    }\n",
       "\n",
       "    .dataframe thead th {\n",
       "        text-align: right;\n",
       "    }\n",
       "</style>\n",
       "<table border=\"1\" class=\"dataframe\">\n",
       "  <thead>\n",
       "    <tr style=\"text-align: right;\">\n",
       "      <th></th>\n",
       "      <th>event_id</th>\n",
       "      <th>device_id</th>\n",
       "      <th>timestamp</th>\n",
       "      <th>longitude</th>\n",
       "      <th>latitude</th>\n",
       "      <th>city</th>\n",
       "      <th>state</th>\n",
       "      <th>gender</th>\n",
       "      <th>age</th>\n",
       "      <th>group</th>\n",
       "      <th>phone_brand</th>\n",
       "      <th>device_model</th>\n",
       "    </tr>\n",
       "  </thead>\n",
       "  <tbody>\n",
       "    <tr>\n",
       "      <th>0</th>\n",
       "      <td>617393</td>\n",
       "      <td>3.510000e+18</td>\n",
       "      <td>5/2/2016 0:44</td>\n",
       "      <td>78.510305</td>\n",
       "      <td>17.482147</td>\n",
       "      <td>Hyderabad</td>\n",
       "      <td>Telangana</td>\n",
       "      <td>Not_Available</td>\n",
       "      <td>Not_Available</td>\n",
       "      <td>Not_Available</td>\n",
       "      <td>Not_Available</td>\n",
       "      <td>Not_Available</td>\n",
       "    </tr>\n",
       "    <tr>\n",
       "      <th>1</th>\n",
       "      <td>622851</td>\n",
       "      <td>4.620000e+18</td>\n",
       "      <td>5/2/2016 7:49</td>\n",
       "      <td>78.528364</td>\n",
       "      <td>17.433518</td>\n",
       "      <td>Hyderabad</td>\n",
       "      <td>Telangana</td>\n",
       "      <td>F</td>\n",
       "      <td>28</td>\n",
       "      <td>F27-28</td>\n",
       "      <td>华为</td>\n",
       "      <td>荣耀3C</td>\n",
       "    </tr>\n",
       "    <tr>\n",
       "      <th>2</th>\n",
       "      <td>625079</td>\n",
       "      <td>8.620000e+18</td>\n",
       "      <td>5/6/2016 8:22</td>\n",
       "      <td>78.503329</td>\n",
       "      <td>17.487031</td>\n",
       "      <td>Hyderabad</td>\n",
       "      <td>Telangana</td>\n",
       "      <td>F</td>\n",
       "      <td>66</td>\n",
       "      <td>F43+</td>\n",
       "      <td>vivo</td>\n",
       "      <td>Y13</td>\n",
       "    </tr>\n",
       "  </tbody>\n",
       "</table>\n",
       "</div>"
      ],
      "text/plain": [
       "   event_id     device_id      timestamp  longitude   latitude       city  \\\n",
       "0    617393  3.510000e+18  5/2/2016 0:44  78.510305  17.482147  Hyderabad   \n",
       "1    622851  4.620000e+18  5/2/2016 7:49  78.528364  17.433518  Hyderabad   \n",
       "2    625079  8.620000e+18  5/6/2016 8:22  78.503329  17.487031  Hyderabad   \n",
       "\n",
       "       state         gender            age          group    phone_brand  \\\n",
       "0  Telangana  Not_Available  Not_Available  Not_Available  Not_Available   \n",
       "1  Telangana              F             28         F27-28             华为   \n",
       "2  Telangana              F             66           F43+           vivo   \n",
       "\n",
       "    device_model  \n",
       "0  Not_Available  \n",
       "1           荣耀3C  \n",
       "2            Y13  "
      ]
     },
     "execution_count": 38,
     "metadata": {},
     "output_type": "execute_result"
    }
   ],
   "source": [
    "temp_data.head(3)"
   ]
  },
  {
   "cell_type": "code",
   "execution_count": 39,
   "metadata": {},
   "outputs": [],
   "source": [
    "temp_data['device_id'] = temp_data['device_id'].values.astype('int64')"
   ]
  },
  {
   "cell_type": "code",
   "execution_count": 40,
   "metadata": {},
   "outputs": [
    {
     "data": {
      "text/html": [
       "<div>\n",
       "<style scoped>\n",
       "    .dataframe tbody tr th:only-of-type {\n",
       "        vertical-align: middle;\n",
       "    }\n",
       "\n",
       "    .dataframe tbody tr th {\n",
       "        vertical-align: top;\n",
       "    }\n",
       "\n",
       "    .dataframe thead th {\n",
       "        text-align: right;\n",
       "    }\n",
       "</style>\n",
       "<table border=\"1\" class=\"dataframe\">\n",
       "  <thead>\n",
       "    <tr style=\"text-align: right;\">\n",
       "      <th></th>\n",
       "      <th>event_id</th>\n",
       "      <th>device_id</th>\n",
       "      <th>timestamp</th>\n",
       "      <th>longitude</th>\n",
       "      <th>latitude</th>\n",
       "      <th>city</th>\n",
       "      <th>state</th>\n",
       "      <th>gender</th>\n",
       "      <th>age</th>\n",
       "      <th>group</th>\n",
       "      <th>phone_brand</th>\n",
       "      <th>device_model</th>\n",
       "    </tr>\n",
       "  </thead>\n",
       "  <tbody>\n",
       "    <tr>\n",
       "      <th>0</th>\n",
       "      <td>617393</td>\n",
       "      <td>3510000000000000000</td>\n",
       "      <td>5/2/2016 0:44</td>\n",
       "      <td>78.510305</td>\n",
       "      <td>17.482147</td>\n",
       "      <td>Hyderabad</td>\n",
       "      <td>Telangana</td>\n",
       "      <td>Not_Available</td>\n",
       "      <td>Not_Available</td>\n",
       "      <td>Not_Available</td>\n",
       "      <td>Not_Available</td>\n",
       "      <td>Not_Available</td>\n",
       "    </tr>\n",
       "    <tr>\n",
       "      <th>1</th>\n",
       "      <td>622851</td>\n",
       "      <td>4620000000000000000</td>\n",
       "      <td>5/2/2016 7:49</td>\n",
       "      <td>78.528364</td>\n",
       "      <td>17.433518</td>\n",
       "      <td>Hyderabad</td>\n",
       "      <td>Telangana</td>\n",
       "      <td>F</td>\n",
       "      <td>28</td>\n",
       "      <td>F27-28</td>\n",
       "      <td>华为</td>\n",
       "      <td>荣耀3C</td>\n",
       "    </tr>\n",
       "    <tr>\n",
       "      <th>2</th>\n",
       "      <td>625079</td>\n",
       "      <td>8620000000000000000</td>\n",
       "      <td>5/6/2016 8:22</td>\n",
       "      <td>78.503329</td>\n",
       "      <td>17.487031</td>\n",
       "      <td>Hyderabad</td>\n",
       "      <td>Telangana</td>\n",
       "      <td>F</td>\n",
       "      <td>66</td>\n",
       "      <td>F43+</td>\n",
       "      <td>vivo</td>\n",
       "      <td>Y13</td>\n",
       "    </tr>\n",
       "  </tbody>\n",
       "</table>\n",
       "</div>"
      ],
      "text/plain": [
       "   event_id            device_id      timestamp  longitude   latitude  \\\n",
       "0    617393  3510000000000000000  5/2/2016 0:44  78.510305  17.482147   \n",
       "1    622851  4620000000000000000  5/2/2016 7:49  78.528364  17.433518   \n",
       "2    625079  8620000000000000000  5/6/2016 8:22  78.503329  17.487031   \n",
       "\n",
       "        city      state         gender            age          group  \\\n",
       "0  Hyderabad  Telangana  Not_Available  Not_Available  Not_Available   \n",
       "1  Hyderabad  Telangana              F             28         F27-28   \n",
       "2  Hyderabad  Telangana              F             66           F43+   \n",
       "\n",
       "     phone_brand   device_model  \n",
       "0  Not_Available  Not_Available  \n",
       "1             华为           荣耀3C  \n",
       "2           vivo            Y13  "
      ]
     },
     "execution_count": 40,
     "metadata": {},
     "output_type": "execute_result"
    }
   ],
   "source": [
    "temp_data.head(3)"
   ]
  },
  {
   "cell_type": "code",
   "execution_count": 55,
   "metadata": {},
   "outputs": [
    {
     "data": {
      "text/plain": [
       "(1703, 12)"
      ]
     },
     "execution_count": 55,
     "metadata": {},
     "output_type": "execute_result"
    }
   ],
   "source": [
    "df.shape"
   ]
  },
  {
   "cell_type": "code",
   "execution_count": 32,
   "metadata": {},
   "outputs": [],
   "source": [
    "######################### end of Data Cleansing..beginning of EDA ########################################"
   ]
  },
  {
   "cell_type": "code",
   "execution_count": 286,
   "metadata": {},
   "outputs": [
    {
     "data": {
      "text/html": [
       "<div>\n",
       "<style scoped>\n",
       "    .dataframe tbody tr th:only-of-type {\n",
       "        vertical-align: middle;\n",
       "    }\n",
       "\n",
       "    .dataframe tbody tr th {\n",
       "        vertical-align: top;\n",
       "    }\n",
       "\n",
       "    .dataframe thead th {\n",
       "        text-align: right;\n",
       "    }\n",
       "</style>\n",
       "<table border=\"1\" class=\"dataframe\">\n",
       "  <thead>\n",
       "    <tr style=\"text-align: right;\">\n",
       "      <th></th>\n",
       "      <th>event_id</th>\n",
       "      <th>device_id</th>\n",
       "      <th>timestamp</th>\n",
       "      <th>longitude</th>\n",
       "      <th>latitude</th>\n",
       "      <th>city</th>\n",
       "      <th>state</th>\n",
       "      <th>gender</th>\n",
       "      <th>age</th>\n",
       "      <th>group</th>\n",
       "      <th>phone_brand</th>\n",
       "      <th>device_model</th>\n",
       "    </tr>\n",
       "  </thead>\n",
       "  <tbody>\n",
       "    <tr>\n",
       "      <th>2459026</th>\n",
       "      <td>617393.0</td>\n",
       "      <td>3.508990e+18</td>\n",
       "      <td>2016-05-02 00:44:50</td>\n",
       "      <td>78.510305</td>\n",
       "      <td>17.482147</td>\n",
       "      <td>Hyderabad</td>\n",
       "      <td>Telangana</td>\n",
       "      <td>Not_Available</td>\n",
       "      <td>Not_Available</td>\n",
       "      <td>Not_Available</td>\n",
       "      <td>Not_Available</td>\n",
       "      <td>Not_Available</td>\n",
       "    </tr>\n",
       "    <tr>\n",
       "      <th>2459204</th>\n",
       "      <td>622851.0</td>\n",
       "      <td>4.623214e+18</td>\n",
       "      <td>2016-05-02 07:49:58</td>\n",
       "      <td>78.528364</td>\n",
       "      <td>17.433518</td>\n",
       "      <td>Hyderabad</td>\n",
       "      <td>Telangana</td>\n",
       "      <td>F</td>\n",
       "      <td>28</td>\n",
       "      <td>F27-28</td>\n",
       "      <td>Not_Available</td>\n",
       "      <td>Not_Available</td>\n",
       "    </tr>\n",
       "    <tr>\n",
       "      <th>2459296</th>\n",
       "      <td>625079.0</td>\n",
       "      <td>8.618343e+18</td>\n",
       "      <td>2016-05-06 08:22:19</td>\n",
       "      <td>78.503329</td>\n",
       "      <td>17.487031</td>\n",
       "      <td>Hyderabad</td>\n",
       "      <td>Telangana</td>\n",
       "      <td>F</td>\n",
       "      <td>66</td>\n",
       "      <td>F43+</td>\n",
       "      <td>Not_Available</td>\n",
       "      <td>Not_Available</td>\n",
       "    </tr>\n",
       "  </tbody>\n",
       "</table>\n",
       "</div>"
      ],
      "text/plain": [
       "         event_id     device_id            timestamp  longitude   latitude  \\\n",
       "2459026  617393.0  3.508990e+18  2016-05-02 00:44:50  78.510305  17.482147   \n",
       "2459204  622851.0  4.623214e+18  2016-05-02 07:49:58  78.528364  17.433518   \n",
       "2459296  625079.0  8.618343e+18  2016-05-06 08:22:19  78.503329  17.487031   \n",
       "\n",
       "              city      state         gender            age          group  \\\n",
       "2459026  Hyderabad  Telangana  Not_Available  Not_Available  Not_Available   \n",
       "2459204  Hyderabad  Telangana              F             28         F27-28   \n",
       "2459296  Hyderabad  Telangana              F             66           F43+   \n",
       "\n",
       "           phone_brand   device_model  \n",
       "2459026  Not_Available  Not_Available  \n",
       "2459204  Not_Available  Not_Available  \n",
       "2459296  Not_Available  Not_Available  "
      ]
     },
     "execution_count": 286,
     "metadata": {},
     "output_type": "execute_result"
    }
   ],
   "source": [
    "event_gender_phone.head(3)"
   ]
  },
  {
   "cell_type": "code",
   "execution_count": 177,
   "metadata": {},
   "outputs": [],
   "source": [
    "#event_gender_phone.to_csv(\"C:/Users/sphoo/Veena-INSAID/CAPSTONE1/Event_gender_phone2.csv\")"
   ]
  },
  {
   "cell_type": "code",
   "execution_count": 56,
   "metadata": {},
   "outputs": [],
   "source": [
    "\n",
    "event_gender_phone = pd.read_csv(\"C:/Users/sphoo/Veena-INSAID/CAPSTONE1/event_gender_phone_states4.csv\") "
   ]
  },
  {
   "cell_type": "code",
   "execution_count": 57,
   "metadata": {},
   "outputs": [
    {
     "data": {
      "text/plain": [
       "<matplotlib.axes._subplots.AxesSubplot at 0x1ca06b07dd8>"
      ]
     },
     "execution_count": 57,
     "metadata": {},
     "output_type": "execute_result"
    },
    {
     "data": {
      "image/png": "[encoded data removed]",
      "text/plain": [
       "<Figure size 432x288 with 1 Axes>"
      ]
     },
     "metadata": {
      "needs_background": "light"
     },
     "output_type": "display_data"
    }
   ],
   "source": [
    "event_gender_phone.groupby('state')['device_id'].count().sort_values(ascending=True)[:10].plot(kind='barh')"
   ]
  },
  {
   "cell_type": "code",
   "execution_count": 58,
   "metadata": {},
   "outputs": [
    {
     "data": {
      "text/plain": [
       "state\n",
       "Telangana       660\n",
       "UttarPradesh    488\n",
       "Rajasthan       210\n",
       "Haryana         107\n",
       "Jharkhand       106\n",
       "Orissa           76\n",
       "Assam            56\n",
       "Name: group, dtype: int64"
      ]
     },
     "execution_count": 58,
     "metadata": {},
     "output_type": "execute_result"
    }
   ],
   "source": [
    "event_gender_phone.groupby('state')['group'].count().sort_values(ascending=False)[:10]"
   ]
  },
  {
   "cell_type": "code",
   "execution_count": 37,
   "metadata": {},
   "outputs": [],
   "source": [
    "# Above is the list of order of 7 states w.r.t phone using population\n",
    "# Telangana tops the list with just one city Hyderabad !"
   ]
  },
  {
   "cell_type": "code",
   "execution_count": 59,
   "metadata": {},
   "outputs": [
    {
     "data": {
      "text/plain": [
       "<matplotlib.axes._subplots.AxesSubplot at 0x1ca0a548a20>"
      ]
     },
     "execution_count": 59,
     "metadata": {},
     "output_type": "execute_result"
    },
    {
     "data": {
      "image/png": "[encoded data removed]",
      "text/plain": [
       "<Figure size 432x288 with 1 Axes>"
      ]
     },
     "metadata": {
      "needs_background": "light"
     },
     "output_type": "display_data"
    }
   ],
   "source": [
    "event_gender_phone.groupby('group')['device_id'].count().sort_values(ascending=True)[:10].plot(kind='barh')"
   ]
  },
  {
   "cell_type": "code",
   "execution_count": 60,
   "metadata": {},
   "outputs": [
    {
     "data": {
      "text/plain": [
       "group\n",
       "Not_Available    489\n",
       "M22-             158\n",
       "M32-38           147\n",
       "M23-26           138\n",
       "M39+             130\n",
       "M29-31           114\n",
       "F33-42           103\n",
       "F23-              87\n",
       "M27-28            80\n",
       "F43+              76\n",
       "Name: device_id, dtype: int64"
      ]
     },
     "execution_count": 60,
     "metadata": {},
     "output_type": "execute_result"
    }
   ],
   "source": [
    "event_gender_phone.groupby('group')['device_id'].count().sort_values(ascending=False)[:10]"
   ]
  },
  {
   "cell_type": "code",
   "execution_count": 40,
   "metadata": {},
   "outputs": [],
   "source": [
    "# Above indicates highest phone user gender as 'male' and age group as 22 years\n",
    "#Also, the top 5 phone users gender is 'Male' and the age group varies from 22 yrs to 39+ years"
   ]
  },
  {
   "cell_type": "code",
   "execution_count": 64,
   "metadata": {},
   "outputs": [
    {
     "data": {
      "text/plain": [
       "group   device_model\n",
       "M22-    荣耀3X畅玩版         1\n",
       "M23-26  荣耀3X            1\n",
       "        荣耀6 Plus        1\n",
       "        荣耀7             1\n",
       "        荣耀畅玩4           1\n",
       "        荣耀畅玩4C          1\n",
       "        荣耀畅玩5           1\n",
       "        荣耀畅玩5X          1\n",
       "        锋尚Pro           1\n",
       "        青春版             1\n",
       "Name: device_model, dtype: int64"
      ]
     },
     "execution_count": 64,
     "metadata": {},
     "output_type": "execute_result"
    }
   ],
   "source": [
    "event_gender_phone.groupby('group')['device_model'].value_counts().sort_values(ascending=True)[:10]"
   ]
  },
  {
   "cell_type": "code",
   "execution_count": 62,
   "metadata": {},
   "outputs": [
    {
     "data": {
      "text/plain": [
       "phone_brand  device_model\n",
       "长虹           C03             1\n",
       "Xiaomi       V182            1\n",
       "             S5.5L           1\n",
       "             S5.1            1\n",
       "             MI pad          1\n",
       "             M5 Plus         1\n",
       "             GN800           1\n",
       "             GN706L          1\n",
       "             GN700W          1\n",
       "             ELIFE E3T       1\n",
       "             E6              1\n",
       "             E3              1\n",
       "OPPO         1105            1\n",
       "             1107            1\n",
       "             A51             1\n",
       "             Find 3          1\n",
       "             R809T           1\n",
       "             R817            1\n",
       "             R820            1\n",
       "             R823T           1\n",
       "             R827T           1\n",
       "             R850            1\n",
       "             U705T           1\n",
       "             Ulike2          1\n",
       "Xiaomi       V188S           1\n",
       "TCL          P502U           1\n",
       "Xiaomi       X805            1\n",
       "             红米3             1\n",
       "Lenovo       AxonMini        1\n",
       "             Blade C         1\n",
       "Samsung      Galaxy Mini     1\n",
       "Lenovo       Grand X Quad    1\n",
       "             Q507T           1\n",
       "             Q705U           1\n",
       "             Q802T           1\n",
       "             V5 Max          1\n",
       "             V818            1\n",
       "             红牛V5            1\n",
       "vivo         Y20T            1\n",
       "             Y15             1\n",
       "Name: device_model, dtype: int64"
      ]
     },
     "execution_count": 62,
     "metadata": {},
     "output_type": "execute_result"
    }
   ],
   "source": [
    "event_gender_phone.groupby('phone_brand')['device_model'].value_counts().sort_values(ascending=True)[:40]"
   ]
  },
  {
   "cell_type": "code",
   "execution_count": 43,
   "metadata": {},
   "outputs": [],
   "source": [
    "# Above indicates Xiaomi has maximum number of models "
   ]
  },
  {
   "cell_type": "code",
   "execution_count": 193,
   "metadata": {},
   "outputs": [
    {
     "data": {
      "text/html": [
       "<div>\n",
       "<style scoped>\n",
       "    .dataframe tbody tr th:only-of-type {\n",
       "        vertical-align: middle;\n",
       "    }\n",
       "\n",
       "    .dataframe tbody tr th {\n",
       "        vertical-align: top;\n",
       "    }\n",
       "\n",
       "    .dataframe thead th {\n",
       "        text-align: right;\n",
       "    }\n",
       "</style>\n",
       "<table border=\"1\" class=\"dataframe\">\n",
       "  <thead>\n",
       "    <tr style=\"text-align: right;\">\n",
       "      <th></th>\n",
       "      <th>Unnamed: 0</th>\n",
       "      <th>event_id</th>\n",
       "      <th>device_id</th>\n",
       "      <th>timestamp</th>\n",
       "      <th>longitude</th>\n",
       "      <th>latitude</th>\n",
       "      <th>city</th>\n",
       "      <th>state</th>\n",
       "      <th>gender</th>\n",
       "      <th>age</th>\n",
       "      <th>group</th>\n",
       "      <th>phone_brand</th>\n",
       "      <th>device_model</th>\n",
       "    </tr>\n",
       "  </thead>\n",
       "  <tbody>\n",
       "    <tr>\n",
       "      <th>660</th>\n",
       "      <td>2475832</td>\n",
       "      <td>15088</td>\n",
       "      <td>9.110000e+18</td>\n",
       "      <td>5/5/2016 14:46</td>\n",
       "      <td>75.844130</td>\n",
       "      <td>27.005071</td>\n",
       "      <td>Jaipur</td>\n",
       "      <td>Rajasthan</td>\n",
       "      <td>Not_Available</td>\n",
       "      <td>Not_Available</td>\n",
       "      <td>Not_Available</td>\n",
       "      <td>Not_Available</td>\n",
       "      <td>Not_Available</td>\n",
       "    </tr>\n",
       "    <tr>\n",
       "      <th>661</th>\n",
       "      <td>2517743</td>\n",
       "      <td>16443</td>\n",
       "      <td>5.990000e+18</td>\n",
       "      <td>5/4/2016 15:19</td>\n",
       "      <td>75.887165</td>\n",
       "      <td>26.940759</td>\n",
       "      <td>Jaipur</td>\n",
       "      <td>Rajasthan</td>\n",
       "      <td>M</td>\n",
       "      <td>25</td>\n",
       "      <td>M23-26</td>\n",
       "      <td>Samsung</td>\n",
       "      <td>Galaxy S4</td>\n",
       "    </tr>\n",
       "    <tr>\n",
       "      <th>662</th>\n",
       "      <td>2542229</td>\n",
       "      <td>17362</td>\n",
       "      <td>4.540000e+18</td>\n",
       "      <td>5/2/2016 16:36</td>\n",
       "      <td>75.859682</td>\n",
       "      <td>26.999255</td>\n",
       "      <td>Jaipur</td>\n",
       "      <td>Rajasthan</td>\n",
       "      <td>Not_Available</td>\n",
       "      <td>Not_Available</td>\n",
       "      <td>Not_Available</td>\n",
       "      <td>Not_Available</td>\n",
       "      <td>Not_Available</td>\n",
       "    </tr>\n",
       "  </tbody>\n",
       "</table>\n",
       "</div>"
      ],
      "text/plain": [
       "     Unnamed: 0  event_id     device_id       timestamp  longitude   latitude  \\\n",
       "660     2475832     15088  9.110000e+18  5/5/2016 14:46  75.844130  27.005071   \n",
       "661     2517743     16443  5.990000e+18  5/4/2016 15:19  75.887165  26.940759   \n",
       "662     2542229     17362  4.540000e+18  5/2/2016 16:36  75.859682  26.999255   \n",
       "\n",
       "       city      state         gender            age          group  \\\n",
       "660  Jaipur  Rajasthan  Not_Available  Not_Available  Not_Available   \n",
       "661  Jaipur  Rajasthan              M             25         M23-26   \n",
       "662  Jaipur  Rajasthan  Not_Available  Not_Available  Not_Available   \n",
       "\n",
       "       phone_brand   device_model  \n",
       "660  Not_Available  Not_Available  \n",
       "661        Samsung      Galaxy S4  \n",
       "662  Not_Available  Not_Available  "
      ]
     },
     "execution_count": 193,
     "metadata": {},
     "output_type": "execute_result"
    }
   ],
   "source": [
    "grp = event_gender_phone.groupby('state')\n",
    "temp_Rajasthan = grp.get_group('Rajasthan')\n",
    "temp_Rajasthan.head(3)\n"
   ]
  },
  {
   "cell_type": "code",
   "execution_count": 218,
   "metadata": {},
   "outputs": [
    {
     "data": {
      "text/plain": [
       "<matplotlib.axes._subplots.AxesSubplot at 0x2139590b208>"
      ]
     },
     "execution_count": 218,
     "metadata": {},
     "output_type": "execute_result"
    },
    {
     "data": {
      "image/png": "[encoded data removed]",
      "text/plain": [
       "<Figure size 432x288 with 1 Axes>"
      ]
     },
     "metadata": {
      "needs_background": "light"
     },
     "output_type": "display_data"
    }
   ],
   "source": [
    "temp_Rajasthan.groupby('group')['phone_brand'].count().sort_values(ascending=True)[:10].plot(kind='barh')"
   ]
  },
  {
   "cell_type": "code",
   "execution_count": 220,
   "metadata": {},
   "outputs": [
    {
     "data": {
      "text/plain": [
       "phone_brand\n",
       "Not_Available    65\n",
       "Samsung          37\n",
       "Xiaomi           32\n",
       "Huawei           23\n",
       "OPPO             14\n",
       "vivo              8\n",
       "Meizu             6\n",
       "Coolpad           6\n",
       "HTC               4\n",
       "优米                2\n",
       "Name: group, dtype: int64"
      ]
     },
     "execution_count": 220,
     "metadata": {},
     "output_type": "execute_result"
    }
   ],
   "source": [
    "temp_Rajasthan.groupby('phone_brand')['group'].count().sort_values(ascending=False)[:10]"
   ]
  },
  {
   "cell_type": "code",
   "execution_count": 196,
   "metadata": {},
   "outputs": [
    {
     "data": {
      "text/plain": [
       "count               210\n",
       "unique               42\n",
       "top       Not_Available\n",
       "freq                 65\n",
       "Name: age, dtype: object"
      ]
     },
     "execution_count": 196,
     "metadata": {},
     "output_type": "execute_result"
    }
   ],
   "source": [
    "temp_Rajasthan['age'].describe()"
   ]
  },
  {
   "cell_type": "code",
   "execution_count": 71,
   "metadata": {},
   "outputs": [
    {
     "data": {
      "text/html": [
       "<div>\n",
       "<style scoped>\n",
       "    .dataframe tbody tr th:only-of-type {\n",
       "        vertical-align: middle;\n",
       "    }\n",
       "\n",
       "    .dataframe tbody tr th {\n",
       "        vertical-align: top;\n",
       "    }\n",
       "\n",
       "    .dataframe thead th {\n",
       "        text-align: right;\n",
       "    }\n",
       "</style>\n",
       "<table border=\"1\" class=\"dataframe\">\n",
       "  <thead>\n",
       "    <tr style=\"text-align: right;\">\n",
       "      <th></th>\n",
       "      <th>event_id</th>\n",
       "      <th>device_id</th>\n",
       "      <th>timestamp</th>\n",
       "      <th>longitude</th>\n",
       "      <th>latitude</th>\n",
       "      <th>city</th>\n",
       "      <th>state</th>\n",
       "      <th>gender</th>\n",
       "      <th>age</th>\n",
       "      <th>group</th>\n",
       "      <th>phone_brand</th>\n",
       "      <th>device_model</th>\n",
       "    </tr>\n",
       "  </thead>\n",
       "  <tbody>\n",
       "    <tr>\n",
       "      <th>665</th>\n",
       "      <td>21311.0</td>\n",
       "      <td>1540731151957259264</td>\n",
       "      <td>2016-05-01 19:20:51</td>\n",
       "      <td>79.237997</td>\n",
       "      <td>28.360574</td>\n",
       "      <td>Aonla</td>\n",
       "      <td>UttarPradesh</td>\n",
       "      <td>M</td>\n",
       "      <td>26.0</td>\n",
       "      <td>M23-26</td>\n",
       "      <td>Samsung</td>\n",
       "      <td>Galaxy S3</td>\n",
       "    </tr>\n",
       "    <tr>\n",
       "      <th>667</th>\n",
       "      <td>24298.0</td>\n",
       "      <td>6005031767544890368</td>\n",
       "      <td>2016-05-07 20:00:09</td>\n",
       "      <td>83.429111</td>\n",
       "      <td>26.773344</td>\n",
       "      <td>Gorakhpur</td>\n",
       "      <td>UttarPradesh</td>\n",
       "      <td>F</td>\n",
       "      <td>30.0</td>\n",
       "      <td>F29-32</td>\n",
       "      <td>美图</td>\n",
       "      <td>2</td>\n",
       "    </tr>\n",
       "    <tr>\n",
       "      <th>670</th>\n",
       "      <td>26918.0</td>\n",
       "      <td>-7020504776105139200</td>\n",
       "      <td>2016-05-05 22:00:18</td>\n",
       "      <td>82.210398</td>\n",
       "      <td>27.504647</td>\n",
       "      <td>Balrampur</td>\n",
       "      <td>UttarPradesh</td>\n",
       "      <td>M</td>\n",
       "      <td>27.0</td>\n",
       "      <td>M27-28</td>\n",
       "      <td>Huawei</td>\n",
       "      <td>畅享5S</td>\n",
       "    </tr>\n",
       "  </tbody>\n",
       "</table>\n",
       "</div>"
      ],
      "text/plain": [
       "     event_id            device_id            timestamp  longitude   latitude  \\\n",
       "665   21311.0  1540731151957259264  2016-05-01 19:20:51  79.237997  28.360574   \n",
       "667   24298.0  6005031767544890368  2016-05-07 20:00:09  83.429111  26.773344   \n",
       "670   26918.0 -7020504776105139200  2016-05-05 22:00:18  82.210398  27.504647   \n",
       "\n",
       "          city         state gender   age   group phone_brand device_model  \n",
       "665      Aonla  UttarPradesh      M  26.0  M23-26     Samsung    Galaxy S3  \n",
       "667  Gorakhpur  UttarPradesh      F  30.0  F29-32          美图            2  \n",
       "670  Balrampur  UttarPradesh      M  27.0  M27-28      Huawei         畅享5S  "
      ]
     },
     "execution_count": 71,
     "metadata": {},
     "output_type": "execute_result"
    }
   ],
   "source": [
    "grp = event_gender_phone.groupby('state')\n",
    "UttarPradesh = grp.get_group('UttarPradesh')\n",
    "UttarPradesh.head(3)\n"
   ]
  },
  {
   "cell_type": "code",
   "execution_count": 76,
   "metadata": {},
   "outputs": [
    {
     "data": {
      "text/plain": [
       "phone_brand\n",
       "Not_Available    135\n",
       "Xiaomi            90\n",
       "Samsung           73\n",
       "Huawei            68\n",
       "vivo              27\n",
       "Coolpad           24\n",
       "Meizu             20\n",
       "OPPO              18\n",
       "HTC                5\n",
       "努比亚                4\n",
       "Name: group, dtype: int64"
      ]
     },
     "execution_count": 76,
     "metadata": {},
     "output_type": "execute_result"
    }
   ],
   "source": [
    "UttarPradesh.groupby('phone_brand')['group'].count().sort_values(ascending=False)[:10]"
   ]
  },
  {
   "cell_type": "code",
   "execution_count": 199,
   "metadata": {},
   "outputs": [
    {
     "data": {
      "text/plain": [
       "group          phone_brand  \n",
       "Not_Available  Not_Available    135\n",
       "M32-38         Samsung           15\n",
       "M23-26         Xiaomi            13\n",
       "M22-           Huawei            11\n",
       "M32-38         Xiaomi            11\n",
       "M22-           Xiaomi            10\n",
       "M29-31         Xiaomi            10\n",
       "M39+           Samsung           10\n",
       "               Huawei             9\n",
       "F27-28         Xiaomi             9\n",
       "Name: phone_brand, dtype: int64"
      ]
     },
     "execution_count": 199,
     "metadata": {},
     "output_type": "execute_result"
    }
   ],
   "source": [
    "UttarPradesh.groupby('group')['phone_brand'].value_counts().sort_values(ascending=False)[:10]"
   ]
  },
  {
   "cell_type": "code",
   "execution_count": 201,
   "metadata": {},
   "outputs": [
    {
     "data": {
      "text/plain": [
       "count               488\n",
       "unique               49\n",
       "top       Not_Available\n",
       "freq                135\n",
       "Name: age, dtype: object"
      ]
     },
     "execution_count": 201,
     "metadata": {},
     "output_type": "execute_result"
    }
   ],
   "source": [
    "UttarPradesh['age'].describe()"
   ]
  },
  {
   "cell_type": "code",
   "execution_count": 52,
   "metadata": {},
   "outputs": [
    {
     "data": {
      "text/plain": [
       "(1703, 12)"
      ]
     },
     "execution_count": 52,
     "metadata": {},
     "output_type": "execute_result"
    }
   ],
   "source": [
    "event_gender_phone.shape"
   ]
  },
  {
   "cell_type": "code",
   "execution_count": 53,
   "metadata": {},
   "outputs": [],
   "source": [
    "event_gender_phone.to_csv(\"C:/Users/sphoo/Veena-INSAID/CAPSTONE1/Book2.csv\") "
   ]
  },
  {
   "cell_type": "code",
   "execution_count": null,
   "metadata": {},
   "outputs": [],
   "source": []
  },
  {
   "cell_type": "code",
   "execution_count": 202,
   "metadata": {},
   "outputs": [
    {
     "data": {
      "text/plain": [
       "<matplotlib.axes._subplots.AxesSubplot at 0x213c64abe48>"
      ]
     },
     "execution_count": 202,
     "metadata": {},
     "output_type": "execute_result"
    },
    {
     "data": {
      "image/png": "[encoded data removed]",
      "text/plain": [
       "<Figure size 432x288 with 1 Axes>"
      ]
     },
     "metadata": {
      "needs_background": "light"
     },
     "output_type": "display_data"
    }
   ],
   "source": [
    "event_gender_phone.groupby('gender')['device_id'].count().sort_values(ascending=True)[:10].plot(kind='barh')"
   ]
  },
  {
   "cell_type": "code",
   "execution_count": 203,
   "metadata": {},
   "outputs": [
    {
     "data": {
      "text/plain": [
       "age\n",
       "Not_Available    489\n",
       "28                72\n",
       "29                65\n",
       "26                64\n",
       "27                64\n",
       "21                62\n",
       "23                57\n",
       "20                53\n",
       "25                53\n",
       "30                51\n",
       "Name: device_id, dtype: int64"
      ]
     },
     "execution_count": 203,
     "metadata": {},
     "output_type": "execute_result"
    }
   ],
   "source": [
    "event_gender_phone.groupby('age')['device_id'].count().sort_values(ascending=False)[:10]"
   ]
  },
  {
   "cell_type": "code",
   "execution_count": 56,
   "metadata": {
    "scrolled": true
   },
   "outputs": [
    {
     "data": {
      "text/plain": [
       "group\n",
       "Not_Available    489\n",
       "M22-             158\n",
       "M32-38           147\n",
       "M23-26           138\n",
       "M39+             130\n",
       "M29-31           114\n",
       "F33-42           103\n",
       "F23-              87\n",
       "M27-28            80\n",
       "F43+              76\n",
       "Name: device_id, dtype: int64"
      ]
     },
     "execution_count": 56,
     "metadata": {},
     "output_type": "execute_result"
    }
   ],
   "source": [
    "event_gender_phone.groupby('group')['device_id'].count().sort_values(ascending=False)[:10]"
   ]
  },
  {
   "cell_type": "code",
   "execution_count": 68,
   "metadata": {},
   "outputs": [
    {
     "data": {
      "text/plain": [
       "<matplotlib.axes._subplots.AxesSubplot at 0x1ca09900b38>"
      ]
     },
     "execution_count": 68,
     "metadata": {},
     "output_type": "execute_result"
    },
    {
     "data": {
      "image/png": "[encoded data removed]",
      "text/plain": [
       "<Figure size 432x288 with 1 Axes>"
      ]
     },
     "metadata": {
      "needs_background": "light"
     },
     "output_type": "display_data"
    }
   ],
   "source": [
    "event_gender_phone.groupby('phone_brand')['device_model'].count().sort_values(ascending=False)[:10].plot(kind='barh')"
   ]
  },
  {
   "cell_type": "code",
   "execution_count": 58,
   "metadata": {},
   "outputs": [
    {
     "data": {
      "text/plain": [
       "count              1703\n",
       "unique               13\n",
       "top       Not_Available\n",
       "freq                489\n",
       "Name: group, dtype: object"
      ]
     },
     "execution_count": 58,
     "metadata": {},
     "output_type": "execute_result"
    }
   ],
   "source": [
    "event_gender_phone['group'].describe()"
   ]
  },
  {
   "cell_type": "code",
   "execution_count": 59,
   "metadata": {},
   "outputs": [
    {
     "data": {
      "text/plain": [
       "count     1703\n",
       "unique       3\n",
       "top          M\n",
       "freq       767\n",
       "Name: gender, dtype: object"
      ]
     },
     "execution_count": 59,
     "metadata": {},
     "output_type": "execute_result"
    }
   ],
   "source": [
    "event_gender_phone.gender.describe()"
   ]
  },
  {
   "cell_type": "code",
   "execution_count": 60,
   "metadata": {},
   "outputs": [
    {
     "data": {
      "text/html": [
       "<div>\n",
       "<style scoped>\n",
       "    .dataframe tbody tr th:only-of-type {\n",
       "        vertical-align: middle;\n",
       "    }\n",
       "\n",
       "    .dataframe tbody tr th {\n",
       "        vertical-align: top;\n",
       "    }\n",
       "\n",
       "    .dataframe thead th {\n",
       "        text-align: right;\n",
       "    }\n",
       "</style>\n",
       "<table border=\"1\" class=\"dataframe\">\n",
       "  <thead>\n",
       "    <tr style=\"text-align: right;\">\n",
       "      <th></th>\n",
       "      <th>event_id</th>\n",
       "      <th>device_id</th>\n",
       "      <th>longitude</th>\n",
       "      <th>latitude</th>\n",
       "    </tr>\n",
       "  </thead>\n",
       "  <tbody>\n",
       "    <tr>\n",
       "      <th>count</th>\n",
       "      <td>1.703000e+03</td>\n",
       "      <td>1.703000e+03</td>\n",
       "      <td>1703.000000</td>\n",
       "      <td>1703.000000</td>\n",
       "    </tr>\n",
       "    <tr>\n",
       "      <th>mean</th>\n",
       "      <td>1.426773e+06</td>\n",
       "      <td>1.632752e+16</td>\n",
       "      <td>79.573026</td>\n",
       "      <td>23.022570</td>\n",
       "    </tr>\n",
       "    <tr>\n",
       "      <th>std</th>\n",
       "      <td>7.945228e+05</td>\n",
       "      <td>5.276151e+18</td>\n",
       "      <td>3.868508</td>\n",
       "      <td>4.840486</td>\n",
       "    </tr>\n",
       "    <tr>\n",
       "      <th>min</th>\n",
       "      <td>1.508800e+04</td>\n",
       "      <td>-9.206189e+18</td>\n",
       "      <td>70.916438</td>\n",
       "      <td>17.410073</td>\n",
       "    </tr>\n",
       "    <tr>\n",
       "      <th>25%</th>\n",
       "      <td>8.519800e+05</td>\n",
       "      <td>-4.430903e+18</td>\n",
       "      <td>78.107149</td>\n",
       "      <td>17.470104</td>\n",
       "    </tr>\n",
       "    <tr>\n",
       "      <th>50%</th>\n",
       "      <td>1.272649e+06</td>\n",
       "      <td>2.376182e+17</td>\n",
       "      <td>78.540955</td>\n",
       "      <td>24.504414</td>\n",
       "    </tr>\n",
       "    <tr>\n",
       "      <th>75%</th>\n",
       "      <td>1.981999e+06</td>\n",
       "      <td>4.530523e+18</td>\n",
       "      <td>80.084904</td>\n",
       "      <td>27.517493</td>\n",
       "    </tr>\n",
       "    <tr>\n",
       "      <th>max</th>\n",
       "      <td>3.249424e+06</td>\n",
       "      <td>9.191348e+18</td>\n",
       "      <td>95.455278</td>\n",
       "      <td>30.795942</td>\n",
       "    </tr>\n",
       "  </tbody>\n",
       "</table>\n",
       "</div>"
      ],
      "text/plain": [
       "           event_id     device_id    longitude     latitude\n",
       "count  1.703000e+03  1.703000e+03  1703.000000  1703.000000\n",
       "mean   1.426773e+06  1.632752e+16    79.573026    23.022570\n",
       "std    7.945228e+05  5.276151e+18     3.868508     4.840486\n",
       "min    1.508800e+04 -9.206189e+18    70.916438    17.410073\n",
       "25%    8.519800e+05 -4.430903e+18    78.107149    17.470104\n",
       "50%    1.272649e+06  2.376182e+17    78.540955    24.504414\n",
       "75%    1.981999e+06  4.530523e+18    80.084904    27.517493\n",
       "max    3.249424e+06  9.191348e+18    95.455278    30.795942"
      ]
     },
     "execution_count": 60,
     "metadata": {},
     "output_type": "execute_result"
    }
   ],
   "source": [
    "event_gender_phone.describe()"
   ]
  },
  {
   "cell_type": "code",
   "execution_count": 61,
   "metadata": {},
   "outputs": [
    {
     "data": {
      "text/plain": [
       "count              1703\n",
       "unique               58\n",
       "top       Not_Available\n",
       "freq                489\n",
       "Name: age, dtype: object"
      ]
     },
     "execution_count": 61,
     "metadata": {},
     "output_type": "execute_result"
    }
   ],
   "source": [
    "event_gender_phone.age.describe()"
   ]
  },
  {
   "cell_type": "code",
   "execution_count": 62,
   "metadata": {},
   "outputs": [
    {
     "data": {
      "text/plain": [
       "Not_Available    1703\n",
       "Name: phone_brand, dtype: int64"
      ]
     },
     "execution_count": 62,
     "metadata": {},
     "output_type": "execute_result"
    }
   ],
   "source": [
    "event_gender_phone['phone_brand'].value_counts()"
   ]
  },
  {
   "cell_type": "code",
   "execution_count": 63,
   "metadata": {},
   "outputs": [
    {
     "data": {
      "text/html": [
       "<div>\n",
       "<style scoped>\n",
       "    .dataframe tbody tr th:only-of-type {\n",
       "        vertical-align: middle;\n",
       "    }\n",
       "\n",
       "    .dataframe tbody tr th {\n",
       "        vertical-align: top;\n",
       "    }\n",
       "\n",
       "    .dataframe thead th {\n",
       "        text-align: right;\n",
       "    }\n",
       "</style>\n",
       "<table border=\"1\" class=\"dataframe\">\n",
       "  <thead>\n",
       "    <tr style=\"text-align: right;\">\n",
       "      <th></th>\n",
       "      <th>event_id</th>\n",
       "      <th>device_id</th>\n",
       "      <th>longitude</th>\n",
       "      <th>latitude</th>\n",
       "    </tr>\n",
       "  </thead>\n",
       "  <tbody>\n",
       "    <tr>\n",
       "      <th>count</th>\n",
       "      <td>4.880000e+02</td>\n",
       "      <td>4.880000e+02</td>\n",
       "      <td>488.000000</td>\n",
       "      <td>488.000000</td>\n",
       "    </tr>\n",
       "    <tr>\n",
       "      <th>mean</th>\n",
       "      <td>1.684728e+06</td>\n",
       "      <td>-2.855670e+17</td>\n",
       "      <td>79.824008</td>\n",
       "      <td>27.483838</td>\n",
       "    </tr>\n",
       "    <tr>\n",
       "      <th>std</th>\n",
       "      <td>9.204833e+05</td>\n",
       "      <td>5.357275e+18</td>\n",
       "      <td>2.075584</td>\n",
       "      <td>1.428252</td>\n",
       "    </tr>\n",
       "    <tr>\n",
       "      <th>min</th>\n",
       "      <td>2.131100e+04</td>\n",
       "      <td>-9.206189e+18</td>\n",
       "      <td>72.351418</td>\n",
       "      <td>23.320385</td>\n",
       "    </tr>\n",
       "    <tr>\n",
       "      <th>25%</th>\n",
       "      <td>9.080648e+05</td>\n",
       "      <td>-5.035901e+18</td>\n",
       "      <td>78.221809</td>\n",
       "      <td>26.555025</td>\n",
       "    </tr>\n",
       "    <tr>\n",
       "      <th>50%</th>\n",
       "      <td>1.711259e+06</td>\n",
       "      <td>-1.465701e+17</td>\n",
       "      <td>79.524645</td>\n",
       "      <td>27.594457</td>\n",
       "    </tr>\n",
       "    <tr>\n",
       "      <th>75%</th>\n",
       "      <td>2.433495e+06</td>\n",
       "      <td>4.269473e+18</td>\n",
       "      <td>81.230111</td>\n",
       "      <td>28.735294</td>\n",
       "    </tr>\n",
       "    <tr>\n",
       "      <th>max</th>\n",
       "      <td>3.245851e+06</td>\n",
       "      <td>9.179870e+18</td>\n",
       "      <td>84.243037</td>\n",
       "      <td>30.055608</td>\n",
       "    </tr>\n",
       "  </tbody>\n",
       "</table>\n",
       "</div>"
      ],
      "text/plain": [
       "           event_id     device_id   longitude    latitude\n",
       "count  4.880000e+02  4.880000e+02  488.000000  488.000000\n",
       "mean   1.684728e+06 -2.855670e+17   79.824008   27.483838\n",
       "std    9.204833e+05  5.357275e+18    2.075584    1.428252\n",
       "min    2.131100e+04 -9.206189e+18   72.351418   23.320385\n",
       "25%    9.080648e+05 -5.035901e+18   78.221809   26.555025\n",
       "50%    1.711259e+06 -1.465701e+17   79.524645   27.594457\n",
       "75%    2.433495e+06  4.269473e+18   81.230111   28.735294\n",
       "max    3.245851e+06  9.179870e+18   84.243037   30.055608"
      ]
     },
     "execution_count": 63,
     "metadata": {},
     "output_type": "execute_result"
    }
   ],
   "source": [
    "grp = event_gender_phone.groupby('state')\n",
    "UttarPradesh = grp.get_group('UttarPradesh')\n",
    "UttarPradesh.describe()"
   ]
  },
  {
   "cell_type": "code",
   "execution_count": 64,
   "metadata": {},
   "outputs": [
    {
     "data": {
      "text/plain": [
       "count          1703\n",
       "unique            7\n",
       "top       Telangana\n",
       "freq            660\n",
       "Name: state, dtype: object"
      ]
     },
     "execution_count": 64,
     "metadata": {},
     "output_type": "execute_result"
    }
   ],
   "source": [
    "event_gender_phone.state.describe()"
   ]
  },
  {
   "cell_type": "code",
   "execution_count": 65,
   "metadata": {},
   "outputs": [
    {
     "data": {
      "text/html": [
       "<div>\n",
       "<style scoped>\n",
       "    .dataframe tbody tr th:only-of-type {\n",
       "        vertical-align: middle;\n",
       "    }\n",
       "\n",
       "    .dataframe tbody tr th {\n",
       "        vertical-align: top;\n",
       "    }\n",
       "\n",
       "    .dataframe thead th {\n",
       "        text-align: right;\n",
       "    }\n",
       "</style>\n",
       "<table border=\"1\" class=\"dataframe\">\n",
       "  <thead>\n",
       "    <tr style=\"text-align: right;\">\n",
       "      <th></th>\n",
       "      <th>event_id</th>\n",
       "      <th>device_id</th>\n",
       "      <th>timestamp</th>\n",
       "      <th>longitude</th>\n",
       "      <th>latitude</th>\n",
       "      <th>city</th>\n",
       "      <th>state</th>\n",
       "      <th>gender</th>\n",
       "      <th>age</th>\n",
       "      <th>group</th>\n",
       "      <th>phone_brand</th>\n",
       "      <th>device_model</th>\n",
       "    </tr>\n",
       "  </thead>\n",
       "  <tbody>\n",
       "    <tr>\n",
       "      <th>2631433</th>\n",
       "      <td>21311.0</td>\n",
       "      <td>1.540731e+18</td>\n",
       "      <td>2016-05-01 19:20:51</td>\n",
       "      <td>79.237997</td>\n",
       "      <td>28.360574</td>\n",
       "      <td>Aonla</td>\n",
       "      <td>UttarPradesh</td>\n",
       "      <td>M</td>\n",
       "      <td>26</td>\n",
       "      <td>M23-26</td>\n",
       "      <td>Not_Available</td>\n",
       "      <td>Not_Available</td>\n",
       "    </tr>\n",
       "    <tr>\n",
       "      <th>2647885</th>\n",
       "      <td>24298.0</td>\n",
       "      <td>6.005032e+18</td>\n",
       "      <td>2016-05-07 20:00:09</td>\n",
       "      <td>83.429111</td>\n",
       "      <td>26.773344</td>\n",
       "      <td>Gorakhpur</td>\n",
       "      <td>UttarPradesh</td>\n",
       "      <td>F</td>\n",
       "      <td>30</td>\n",
       "      <td>F29-32</td>\n",
       "      <td>Not_Available</td>\n",
       "      <td>Not_Available</td>\n",
       "    </tr>\n",
       "    <tr>\n",
       "      <th>2660845</th>\n",
       "      <td>26918.0</td>\n",
       "      <td>-7.020505e+18</td>\n",
       "      <td>2016-05-05 22:00:18</td>\n",
       "      <td>82.210398</td>\n",
       "      <td>27.504647</td>\n",
       "      <td>Balrampur</td>\n",
       "      <td>UttarPradesh</td>\n",
       "      <td>M</td>\n",
       "      <td>27</td>\n",
       "      <td>M27-28</td>\n",
       "      <td>Not_Available</td>\n",
       "      <td>Not_Available</td>\n",
       "    </tr>\n",
       "    <tr>\n",
       "      <th>2692237</th>\n",
       "      <td>36912.0</td>\n",
       "      <td>-2.234094e+18</td>\n",
       "      <td>2016-05-05 08:12:07</td>\n",
       "      <td>80.867952</td>\n",
       "      <td>25.255343</td>\n",
       "      <td>ChitrakutDham</td>\n",
       "      <td>UttarPradesh</td>\n",
       "      <td>F</td>\n",
       "      <td>51</td>\n",
       "      <td>F43+</td>\n",
       "      <td>Not_Available</td>\n",
       "      <td>Not_Available</td>\n",
       "    </tr>\n",
       "    <tr>\n",
       "      <th>2712755</th>\n",
       "      <td>45299.0</td>\n",
       "      <td>-6.919149e+18</td>\n",
       "      <td>2016-05-03 13:42:07</td>\n",
       "      <td>77.458362</td>\n",
       "      <td>28.753438</td>\n",
       "      <td>Ghaziabad</td>\n",
       "      <td>UttarPradesh</td>\n",
       "      <td>M</td>\n",
       "      <td>33</td>\n",
       "      <td>M32-38</td>\n",
       "      <td>Not_Available</td>\n",
       "      <td>Not_Available</td>\n",
       "    </tr>\n",
       "  </tbody>\n",
       "</table>\n",
       "</div>"
      ],
      "text/plain": [
       "         event_id     device_id            timestamp  longitude   latitude  \\\n",
       "2631433   21311.0  1.540731e+18  2016-05-01 19:20:51  79.237997  28.360574   \n",
       "2647885   24298.0  6.005032e+18  2016-05-07 20:00:09  83.429111  26.773344   \n",
       "2660845   26918.0 -7.020505e+18  2016-05-05 22:00:18  82.210398  27.504647   \n",
       "2692237   36912.0 -2.234094e+18  2016-05-05 08:12:07  80.867952  25.255343   \n",
       "2712755   45299.0 -6.919149e+18  2016-05-03 13:42:07  77.458362  28.753438   \n",
       "\n",
       "                  city         state gender age   group    phone_brand  \\\n",
       "2631433          Aonla  UttarPradesh      M  26  M23-26  Not_Available   \n",
       "2647885      Gorakhpur  UttarPradesh      F  30  F29-32  Not_Available   \n",
       "2660845      Balrampur  UttarPradesh      M  27  M27-28  Not_Available   \n",
       "2692237  ChitrakutDham  UttarPradesh      F  51    F43+  Not_Available   \n",
       "2712755      Ghaziabad  UttarPradesh      M  33  M32-38  Not_Available   \n",
       "\n",
       "          device_model  \n",
       "2631433  Not_Available  \n",
       "2647885  Not_Available  \n",
       "2660845  Not_Available  \n",
       "2692237  Not_Available  \n",
       "2712755  Not_Available  "
      ]
     },
     "execution_count": 65,
     "metadata": {},
     "output_type": "execute_result"
    }
   ],
   "source": [
    "UttarPradesh.head()"
   ]
  },
  {
   "cell_type": "code",
   "execution_count": 207,
   "metadata": {},
   "outputs": [
    {
     "data": {
      "text/plain": [
       "<matplotlib.axes._subplots.AxesSubplot at 0x21391cfc908>"
      ]
     },
     "execution_count": 207,
     "metadata": {},
     "output_type": "execute_result"
    },
    {
     "data": {
      "image/png": "[encoded data removed]",
      "text/plain": [
       "<Figure size 432x288 with 1 Axes>"
      ]
     },
     "metadata": {
      "needs_background": "light"
     },
     "output_type": "display_data"
    }
   ],
   "source": [
    "#grp = event_gender_phone.groupby('state')\n",
    "UttarPradesh.groupby('group')['phone_brand'].count().sort_values(ascending=True)[:10].plot(kind='barh')"
   ]
  },
  {
   "cell_type": "code",
   "execution_count": 210,
   "metadata": {},
   "outputs": [
    {
     "data": {
      "text/plain": [
       "<matplotlib.axes._subplots.AxesSubplot at 0x21398157e48>"
      ]
     },
     "execution_count": 210,
     "metadata": {},
     "output_type": "execute_result"
    },
    {
     "data": {
      "image/png": "[encoded data removed]",
      "text/plain": [
       "<Figure size 432x288 with 1 Axes>"
      ]
     },
     "metadata": {
      "needs_background": "light"
     },
     "output_type": "display_data"
    }
   ],
   "source": [
    "UttarPradesh.groupby('phone_brand')['group'].value_counts().sort_values(ascending=False)[:10].plot(kind='barh')"
   ]
  },
  {
   "cell_type": "code",
   "execution_count": 122,
   "metadata": {},
   "outputs": [
    {
     "data": {
      "text/plain": [
       "<matplotlib.axes._subplots.AxesSubplot at 0x1ca0961da90>"
      ]
     },
     "execution_count": 122,
     "metadata": {},
     "output_type": "execute_result"
    },
    {
     "data": {
      "image/png": "[encoded data removed]",
      "text/plain": [
       "<Figure size 720x720 with 1 Axes>"
      ]
     },
     "metadata": {
      "needs_background": "light"
     },
     "output_type": "display_data"
    }
   ],
   "source": [
    "UttarPradesh.phone_brand.value_counts().sort_values(ascending=False)[:10].plot(kind='barh')"
   ]
  },
  {
   "cell_type": "code",
   "execution_count": 123,
   "metadata": {},
   "outputs": [
    {
     "data": {
      "text/plain": [
       "<matplotlib.axes._subplots.AxesSubplot at 0x1ca028384a8>"
      ]
     },
     "execution_count": 123,
     "metadata": {},
     "output_type": "execute_result"
    },
    {
     "name": "stderr",
     "output_type": "stream",
     "text": [
      "C:\\Users\\sphoo\\Anaconda3\\lib\\site-packages\\matplotlib\\backends\\backend_agg.py:211: RuntimeWarning: Glyph 20248 missing from current font.\n",
      "  font.set_text(s, 0.0, flags=flags)\n",
      "C:\\Users\\sphoo\\Anaconda3\\lib\\site-packages\\matplotlib\\backends\\backend_agg.py:211: RuntimeWarning: Glyph 31859 missing from current font.\n",
      "  font.set_text(s, 0.0, flags=flags)\n",
      "C:\\Users\\sphoo\\Anaconda3\\lib\\site-packages\\matplotlib\\backends\\backend_agg.py:180: RuntimeWarning: Glyph 20248 missing from current font.\n",
      "  font.set_text(s, 0, flags=flags)\n",
      "C:\\Users\\sphoo\\Anaconda3\\lib\\site-packages\\matplotlib\\backends\\backend_agg.py:180: RuntimeWarning: Glyph 31859 missing from current font.\n",
      "  font.set_text(s, 0, flags=flags)\n"
     ]
    },
    {
     "data": {
      "image/png": "[encoded data removed]",
      "text/plain": [
       "<Figure size 720x720 with 1 Axes>"
      ]
     },
     "metadata": {
      "needs_background": "light"
     },
     "output_type": "display_data"
    }
   ],
   "source": [
    "grp = event_gender_phone.groupby('state')\n",
    "Rajasthan = grp.get_group('Rajasthan')\n",
    "Rajasthan.phone_brand.value_counts().sort_values(ascending=False)[:10].plot(kind='barh')"
   ]
  },
  {
   "cell_type": "code",
   "execution_count": 70,
   "metadata": {},
   "outputs": [
    {
     "data": {
      "text/plain": [
       "phone_brand    group        \n",
       "Not_Available  Not_Available    65\n",
       "               M23-26           24\n",
       "               M32-38           20\n",
       "               M29-31           18\n",
       "               M22-             17\n",
       "               M39+             12\n",
       "               F43+             12\n",
       "               F24-26           10\n",
       "               F33-42            9\n",
       "               M27-28            7\n",
       "Name: group, dtype: int64"
      ]
     },
     "execution_count": 70,
     "metadata": {},
     "output_type": "execute_result"
    }
   ],
   "source": [
    "Rajasthan.groupby('phone_brand')['group'].value_counts().sort_values(ascending=False)[:10]\n"
   ]
  },
  {
   "cell_type": "code",
   "execution_count": 214,
   "metadata": {},
   "outputs": [
    {
     "data": {
      "text/plain": [
       "<matplotlib.axes._subplots.AxesSubplot at 0x2139591ed68>"
      ]
     },
     "execution_count": 214,
     "metadata": {},
     "output_type": "execute_result"
    },
    {
     "data": {
      "image/png": "[encoded data removed]",
      "text/plain": [
       "<Figure size 432x288 with 1 Axes>"
      ]
     },
     "metadata": {
      "needs_background": "light"
     },
     "output_type": "display_data"
    }
   ],
   "source": [
    "Rajasthan.groupby('phone_brand')['group'].value_counts().sort_values(ascending=False)[:10].plot(kind='barh')"
   ]
  },
  {
   "cell_type": "code",
   "execution_count": 213,
   "metadata": {
    "scrolled": true
   },
   "outputs": [],
   "source": [
    "import matplotlib.pyplot as plt\n",
    "from matplotlib.font_manager import FontProperties\n",
    "grp = event_gender_phone.groupby('state')\n",
    "Haryana = grp.get_group('Haryana')\n",
    "Haryana = Haryana.phone_brand.value_counts().sort_values(ascending=False)[:10]"
   ]
  },
  {
   "cell_type": "code",
   "execution_count": 120,
   "metadata": {},
   "outputs": [
    {
     "data": {
      "text/plain": [
       "<matplotlib.axes._subplots.AxesSubplot at 0x1ca057af470>"
      ]
     },
     "execution_count": 120,
     "metadata": {},
     "output_type": "execute_result"
    },
    {
     "name": "stderr",
     "output_type": "stream",
     "text": [
      "C:\\Users\\sphoo\\Anaconda3\\lib\\site-packages\\matplotlib\\backends\\backend_agg.py:211: RuntimeWarning: Glyph 21162 missing from current font.\n",
      "  font.set_text(s, 0.0, flags=flags)\n",
      "C:\\Users\\sphoo\\Anaconda3\\lib\\site-packages\\matplotlib\\backends\\backend_agg.py:211: RuntimeWarning: Glyph 27604 missing from current font.\n",
      "  font.set_text(s, 0.0, flags=flags)\n",
      "C:\\Users\\sphoo\\Anaconda3\\lib\\site-packages\\matplotlib\\backends\\backend_agg.py:211: RuntimeWarning: Glyph 20122 missing from current font.\n",
      "  font.set_text(s, 0.0, flags=flags)\n",
      "C:\\Users\\sphoo\\Anaconda3\\lib\\site-packages\\matplotlib\\backends\\backend_agg.py:211: RuntimeWarning: Glyph 20808 missing from current font.\n",
      "  font.set_text(s, 0.0, flags=flags)\n",
      "C:\\Users\\sphoo\\Anaconda3\\lib\\site-packages\\matplotlib\\backends\\backend_agg.py:211: RuntimeWarning: Glyph 38155 missing from current font.\n",
      "  font.set_text(s, 0.0, flags=flags)\n",
      "C:\\Users\\sphoo\\Anaconda3\\lib\\site-packages\\matplotlib\\backends\\backend_agg.py:180: RuntimeWarning: Glyph 21162 missing from current font.\n",
      "  font.set_text(s, 0, flags=flags)\n",
      "C:\\Users\\sphoo\\Anaconda3\\lib\\site-packages\\matplotlib\\backends\\backend_agg.py:180: RuntimeWarning: Glyph 27604 missing from current font.\n",
      "  font.set_text(s, 0, flags=flags)\n",
      "C:\\Users\\sphoo\\Anaconda3\\lib\\site-packages\\matplotlib\\backends\\backend_agg.py:180: RuntimeWarning: Glyph 20122 missing from current font.\n",
      "  font.set_text(s, 0, flags=flags)\n",
      "C:\\Users\\sphoo\\Anaconda3\\lib\\site-packages\\matplotlib\\backends\\backend_agg.py:180: RuntimeWarning: Glyph 20808 missing from current font.\n",
      "  font.set_text(s, 0, flags=flags)\n",
      "C:\\Users\\sphoo\\Anaconda3\\lib\\site-packages\\matplotlib\\backends\\backend_agg.py:180: RuntimeWarning: Glyph 38155 missing from current font.\n",
      "  font.set_text(s, 0, flags=flags)\n"
     ]
    },
    {
     "data": {
      "image/png": "[encoded data removed]",
      "text/plain": [
       "<Figure size 720x720 with 1 Axes>"
      ]
     },
     "metadata": {
      "needs_background": "light"
     },
     "output_type": "display_data"
    }
   ],
   "source": [
    "grp = event_gender_phone.groupby('state')\n",
    "Jharkhand = grp.get_group('Jharkhand')\n",
    "Jharkhand.phone_brand.value_counts().sort_values(ascending=False)[:10].plot(kind='bar')"
   ]
  },
  {
   "cell_type": "code",
   "execution_count": 121,
   "metadata": {},
   "outputs": [
    {
     "data": {
      "text/plain": [
       "<matplotlib.axes._subplots.AxesSubplot at 0x1ca09fabf98>"
      ]
     },
     "execution_count": 121,
     "metadata": {},
     "output_type": "execute_result"
    },
    {
     "data": {
      "image/png": "[encoded data removed]",
      "text/plain": [
       "<Figure size 720x720 with 1 Axes>"
      ]
     },
     "metadata": {
      "needs_background": "light"
     },
     "output_type": "display_data"
    }
   ],
   "source": [
    "grp = event_gender_phone.groupby('state')\n",
    "Jharkhand = grp.get_group('Jharkhand')\n",
    "Jharkhand.groupby('phone_brand')['group'].value_counts().sort_values(ascending=False)[:10].plot(kind = 'bar')"
   ]
  },
  {
   "cell_type": "code",
   "execution_count": 129,
   "metadata": {},
   "outputs": [
    {
     "name": "stderr",
     "output_type": "stream",
     "text": [
      "C:\\Users\\sphoo\\Anaconda3\\lib\\site-packages\\matplotlib\\backends\\backend_agg.py:211: RuntimeWarning: Glyph 21326 missing from current font.\n",
      "  font.set_text(s, 0.0, flags=flags)\n",
      "C:\\Users\\sphoo\\Anaconda3\\lib\\site-packages\\matplotlib\\backends\\backend_agg.py:211: RuntimeWarning: Glyph 30805 missing from current font.\n",
      "  font.set_text(s, 0.0, flags=flags)\n",
      "C:\\Users\\sphoo\\Anaconda3\\lib\\site-packages\\matplotlib\\backends\\backend_agg.py:211: RuntimeWarning: Glyph 22855 missing from current font.\n",
      "  font.set_text(s, 0.0, flags=flags)\n",
      "C:\\Users\\sphoo\\Anaconda3\\lib\\site-packages\\matplotlib\\backends\\backend_agg.py:180: RuntimeWarning: Glyph 21326 missing from current font.\n",
      "  font.set_text(s, 0, flags=flags)\n",
      "C:\\Users\\sphoo\\Anaconda3\\lib\\site-packages\\matplotlib\\backends\\backend_agg.py:180: RuntimeWarning: Glyph 30805 missing from current font.\n",
      "  font.set_text(s, 0, flags=flags)\n",
      "C:\\Users\\sphoo\\Anaconda3\\lib\\site-packages\\matplotlib\\backends\\backend_agg.py:180: RuntimeWarning: Glyph 22855 missing from current font.\n",
      "  font.set_text(s, 0, flags=flags)\n"
     ]
    },
    {
     "data": {
      "image/png": "[encoded data removed]",
      "text/plain": [
       "<Figure size 720x720 with 1 Axes>"
      ]
     },
     "metadata": {
      "needs_background": "light"
     },
     "output_type": "display_data"
    }
   ],
   "source": [
    "grp = event_gender_phone.groupby('state')\n",
    "Haryana = grp.get_group('Haryana')\n",
    "Haryana = Haryana.phone_brand.value_counts().sort_values(ascending=True)[:10].plot(kind='barh')\n",
    "#Haryana.groupby('phone_brand')['group'].value_counts().sort_values(ascending=False)[:10]"
   ]
  },
  {
   "cell_type": "code",
   "execution_count": 134,
   "metadata": {},
   "outputs": [
    {
     "data": {
      "text/plain": [
       "<matplotlib.axes._subplots.AxesSubplot at 0x1ca0dd81518>"
      ]
     },
     "execution_count": 134,
     "metadata": {},
     "output_type": "execute_result"
    },
    {
     "data": {
      "image/png": "[encoded data removed]",
      "text/plain": [
       "<Figure size 720x720 with 1 Axes>"
      ]
     },
     "metadata": {
      "needs_background": "light"
     },
     "output_type": "display_data"
    }
   ],
   "source": [
    "grp = event_gender_phone.groupby('state')\n",
    "Haryana = grp.get_group('Haryana')\n",
    "#Haryana = Haryana.phone_brand.value_counts().sort_values(ascending=False)[:10].plot(kind='bar')\n",
    "Haryana.groupby('phone_brand')['group'].value_counts().sort_values(ascending=False)[:10].plot(kind='bar')"
   ]
  },
  {
   "cell_type": "code",
   "execution_count": 133,
   "metadata": {},
   "outputs": [
    {
     "data": {
      "text/plain": [
       "<matplotlib.axes._subplots.AxesSubplot at 0x1ca0d718ef0>"
      ]
     },
     "execution_count": 133,
     "metadata": {},
     "output_type": "execute_result"
    },
    {
     "data": {
      "image/png": "[encoded data removed]",
      "text/plain": [
       "<Figure size 720x720 with 1 Axes>"
      ]
     },
     "metadata": {
      "needs_background": "light"
     },
     "output_type": "display_data"
    }
   ],
   "source": [
    "grp = event_gender_phone.groupby('state')\n",
    "Orissa = grp.get_group('Orissa')\n",
    "Orissa.groupby('phone_brand')['group'].value_counts().sort_values(ascending=False)[:10].plot(kind='bar')"
   ]
  },
  {
   "cell_type": "code",
   "execution_count": 83,
   "metadata": {},
   "outputs": [
    {
     "data": {
      "text/plain": [
       "phone_brand    group        \n",
       "Not_Available  Not_Available    19\n",
       "Xiaomi         F33-42            4\n",
       "Huawei         M39+              3\n",
       "Xiaomi         M22-              3\n",
       "               M39+              3\n",
       "Coolpad        M27-28            2\n",
       "OPPO           M32-38            2\n",
       "Huawei         M22-              2\n",
       "               M23-26            2\n",
       "Xiaomi         M32-38            2\n",
       "Name: group, dtype: int64"
      ]
     },
     "execution_count": 83,
     "metadata": {},
     "output_type": "execute_result"
    }
   ],
   "source": [
    "Orissa.groupby('phone_brand')['group'].value_counts().sort_values(ascending=False)[:10]"
   ]
  },
  {
   "cell_type": "code",
   "execution_count": 86,
   "metadata": {},
   "outputs": [
    {
     "data": {
      "text/plain": [
       "<matplotlib.axes._subplots.AxesSubplot at 0x1ca09807d68>"
      ]
     },
     "execution_count": 86,
     "metadata": {},
     "output_type": "execute_result"
    },
    {
     "data": {
      "image/png": "[encoded data removed]",
      "text/plain": [
       "<Figure size 432x288 with 1 Axes>"
      ]
     },
     "metadata": {
      "needs_background": "light"
     },
     "output_type": "display_data"
    }
   ],
   "source": [
    "Orissa.phone_brand.value_counts().sort_values(ascending=False)[:10].plot(kind='bar')"
   ]
  },
  {
   "cell_type": "code",
   "execution_count": 87,
   "metadata": {},
   "outputs": [
    {
     "data": {
      "image/png": "[encoded data removed]",
      "text/plain": [
       "<Figure size 432x288 with 1 Axes>"
      ]
     },
     "metadata": {
      "needs_background": "light"
     },
     "output_type": "display_data"
    }
   ],
   "source": [
    "grp = event_gender_phone.groupby('state')\n",
    "Assam = grp.get_group('Assam')\n",
    "Assam = Assam.phone_brand.value_counts().sort_values(ascending=False)[:10].plot(kind='bar')"
   ]
  },
  {
   "cell_type": "code",
   "execution_count": 135,
   "metadata": {},
   "outputs": [
    {
     "data": {
      "text/plain": [
       "<matplotlib.axes._subplots.AxesSubplot at 0x1ca067a93c8>"
      ]
     },
     "execution_count": 135,
     "metadata": {},
     "output_type": "execute_result"
    },
    {
     "data": {
      "image/png": "[encoded data removed]",
      "text/plain": [
       "<Figure size 720x720 with 1 Axes>"
      ]
     },
     "metadata": {
      "needs_background": "light"
     },
     "output_type": "display_data"
    }
   ],
   "source": [
    "grp = event_gender_phone.groupby('state')\n",
    "Assam = grp.get_group('Assam')\n",
    "Assam.groupby('phone_brand')['group'].value_counts().sort_values(ascending=False)[:10].plot(kind ='bar')"
   ]
  },
  {
   "cell_type": "code",
   "execution_count": 91,
   "metadata": {},
   "outputs": [],
   "source": [
    "grp = event_gender_phone.groupby('state')\n",
    "Telangana = grp.get_group('Telangana')\n",
    "#Telangana = Telangana.phone_brand.value_counts().sort_values(ascending=False)[:10].plot(kind='bar')"
   ]
  },
  {
   "cell_type": "code",
   "execution_count": 136,
   "metadata": {},
   "outputs": [
    {
     "data": {
      "text/plain": [
       "<matplotlib.axes._subplots.AxesSubplot at 0x1ca0dd81e48>"
      ]
     },
     "execution_count": 136,
     "metadata": {},
     "output_type": "execute_result"
    },
    {
     "data": {
      "image/png": "[encoded data removed]",
      "text/plain": [
       "<Figure size 720x720 with 1 Axes>"
      ]
     },
     "metadata": {
      "needs_background": "light"
     },
     "output_type": "display_data"
    }
   ],
   "source": [
    "Telangana.groupby('phone_brand')['group'].value_counts().sort_values(ascending=False)[:10].plot(kind='bar')"
   ]
  },
  {
   "cell_type": "code",
   "execution_count": 92,
   "metadata": {},
   "outputs": [
    {
     "data": {
      "text/plain": [
       "<matplotlib.axes._subplots.AxesSubplot at 0x1ca05839668>"
      ]
     },
     "execution_count": 92,
     "metadata": {},
     "output_type": "execute_result"
    },
    {
     "data": {
      "image/png": "[encoded data removed]",
      "text/plain": [
       "<Figure size 432x288 with 1 Axes>"
      ]
     },
     "metadata": {
      "needs_background": "light"
     },
     "output_type": "display_data"
    }
   ],
   "source": [
    "Telangana.phone_brand.value_counts().sort_values(ascending=False)[:10].plot(kind='bar')"
   ]
  },
  {
   "cell_type": "code",
   "execution_count": 93,
   "metadata": {},
   "outputs": [],
   "source": [
    "import matplotlib.dates as mdates"
   ]
  },
  {
   "cell_type": "code",
   "execution_count": 94,
   "metadata": {},
   "outputs": [
    {
     "data": {
      "text/plain": [
       "'2016-05-01 00:02:29'"
      ]
     },
     "execution_count": 94,
     "metadata": {},
     "output_type": "execute_result"
    }
   ],
   "source": [
    "df.timestamp.min()"
   ]
  },
  {
   "cell_type": "code",
   "execution_count": 95,
   "metadata": {},
   "outputs": [
    {
     "data": {
      "text/plain": [
       "'2016-05-07 23:42:47'"
      ]
     },
     "execution_count": 95,
     "metadata": {},
     "output_type": "execute_result"
    }
   ],
   "source": [
    "df.timestamp.max()"
   ]
  },
  {
   "cell_type": "code",
   "execution_count": 96,
   "metadata": {},
   "outputs": [],
   "source": [
    "idx = pd.date_range('2016-05-01 00:01:49', '2016-05-07 23:55:55', freq = 'H')"
   ]
  },
  {
   "cell_type": "code",
   "execution_count": 97,
   "metadata": {},
   "outputs": [
    {
     "name": "stdout",
     "output_type": "stream",
     "text": [
      "DatetimeIndex(['2016-05-01 00:01:49', '2016-05-01 01:01:49',\n",
      "               '2016-05-01 02:01:49', '2016-05-01 03:01:49',\n",
      "               '2016-05-01 04:01:49', '2016-05-01 05:01:49',\n",
      "               '2016-05-01 06:01:49', '2016-05-01 07:01:49',\n",
      "               '2016-05-01 08:01:49', '2016-05-01 09:01:49',\n",
      "               ...\n",
      "               '2016-05-07 14:01:49', '2016-05-07 15:01:49',\n",
      "               '2016-05-07 16:01:49', '2016-05-07 17:01:49',\n",
      "               '2016-05-07 18:01:49', '2016-05-07 19:01:49',\n",
      "               '2016-05-07 20:01:49', '2016-05-07 21:01:49',\n",
      "               '2016-05-07 22:01:49', '2016-05-07 23:01:49'],\n",
      "              dtype='datetime64[ns]', length=168, freq='H')\n"
     ]
    }
   ],
   "source": [
    "print(idx)"
   ]
  },
  {
   "cell_type": "code",
   "execution_count": 98,
   "metadata": {},
   "outputs": [
    {
     "data": {
      "text/plain": [
       "168"
      ]
     },
     "execution_count": 98,
     "metadata": {},
     "output_type": "execute_result"
    }
   ],
   "source": [
    "len(idx)"
   ]
  },
  {
   "cell_type": "code",
   "execution_count": 99,
   "metadata": {},
   "outputs": [],
   "source": [
    "df= event_gender_phone.copy()"
   ]
  },
  {
   "cell_type": "code",
   "execution_count": 100,
   "metadata": {
    "scrolled": true
   },
   "outputs": [
    {
     "data": {
      "text/html": [
       "<div>\n",
       "<style scoped>\n",
       "    .dataframe tbody tr th:only-of-type {\n",
       "        vertical-align: middle;\n",
       "    }\n",
       "\n",
       "    .dataframe tbody tr th {\n",
       "        vertical-align: top;\n",
       "    }\n",
       "\n",
       "    .dataframe thead th {\n",
       "        text-align: right;\n",
       "    }\n",
       "</style>\n",
       "<table border=\"1\" class=\"dataframe\">\n",
       "  <thead>\n",
       "    <tr style=\"text-align: right;\">\n",
       "      <th></th>\n",
       "      <th>event_id</th>\n",
       "      <th>device_id</th>\n",
       "      <th>timestamp</th>\n",
       "      <th>longitude</th>\n",
       "      <th>latitude</th>\n",
       "      <th>city</th>\n",
       "      <th>state</th>\n",
       "      <th>gender</th>\n",
       "      <th>age</th>\n",
       "      <th>group</th>\n",
       "      <th>phone_brand</th>\n",
       "      <th>device_model</th>\n",
       "    </tr>\n",
       "  </thead>\n",
       "  <tbody>\n",
       "    <tr>\n",
       "      <th>0</th>\n",
       "      <td>617393.0</td>\n",
       "      <td>3508989809324087808</td>\n",
       "      <td>2016-05-02 00:44:50</td>\n",
       "      <td>78.510305</td>\n",
       "      <td>17.482147</td>\n",
       "      <td>Hyderabad</td>\n",
       "      <td>Telangana</td>\n",
       "      <td>Not_Available</td>\n",
       "      <td>Not_Available</td>\n",
       "      <td>Not_Available</td>\n",
       "      <td>Not_Available</td>\n",
       "      <td>Not_Available</td>\n",
       "    </tr>\n",
       "    <tr>\n",
       "      <th>1</th>\n",
       "      <td>622851.0</td>\n",
       "      <td>4623214080956558336</td>\n",
       "      <td>2016-05-02 07:49:58</td>\n",
       "      <td>78.528364</td>\n",
       "      <td>17.433518</td>\n",
       "      <td>Hyderabad</td>\n",
       "      <td>Telangana</td>\n",
       "      <td>F</td>\n",
       "      <td>28.0</td>\n",
       "      <td>F27-28</td>\n",
       "      <td>Huawei</td>\n",
       "      <td>荣耀3C</td>\n",
       "    </tr>\n",
       "    <tr>\n",
       "      <th>2</th>\n",
       "      <td>625079.0</td>\n",
       "      <td>8618343247036183552</td>\n",
       "      <td>2016-05-06 08:22:19</td>\n",
       "      <td>78.503329</td>\n",
       "      <td>17.487031</td>\n",
       "      <td>Hyderabad</td>\n",
       "      <td>Telangana</td>\n",
       "      <td>F</td>\n",
       "      <td>66.0</td>\n",
       "      <td>F43+</td>\n",
       "      <td>vivo</td>\n",
       "      <td>Y13</td>\n",
       "    </tr>\n",
       "    <tr>\n",
       "      <th>3</th>\n",
       "      <td>629002.0</td>\n",
       "      <td>6349139484226491392</td>\n",
       "      <td>2016-05-07 10:40:30</td>\n",
       "      <td>78.528845</td>\n",
       "      <td>17.470551</td>\n",
       "      <td>Hyderabad</td>\n",
       "      <td>Telangana</td>\n",
       "      <td>M</td>\n",
       "      <td>27.0</td>\n",
       "      <td>M27-28</td>\n",
       "      <td>Samsung</td>\n",
       "      <td>Galaxy A7</td>\n",
       "    </tr>\n",
       "    <tr>\n",
       "      <th>4</th>\n",
       "      <td>629522.0</td>\n",
       "      <td>-7591511241211994112</td>\n",
       "      <td>2016-05-03 11:13:37</td>\n",
       "      <td>78.565084</td>\n",
       "      <td>17.497934</td>\n",
       "      <td>Hyderabad</td>\n",
       "      <td>Telangana</td>\n",
       "      <td>M</td>\n",
       "      <td>44.0</td>\n",
       "      <td>M39+</td>\n",
       "      <td>Xiaomi</td>\n",
       "      <td>MI 4</td>\n",
       "    </tr>\n",
       "  </tbody>\n",
       "</table>\n",
       "</div>"
      ],
      "text/plain": [
       "   event_id            device_id            timestamp  longitude   latitude  \\\n",
       "0  617393.0  3508989809324087808  2016-05-02 00:44:50  78.510305  17.482147   \n",
       "1  622851.0  4623214080956558336  2016-05-02 07:49:58  78.528364  17.433518   \n",
       "2  625079.0  8618343247036183552  2016-05-06 08:22:19  78.503329  17.487031   \n",
       "3  629002.0  6349139484226491392  2016-05-07 10:40:30  78.528845  17.470551   \n",
       "4  629522.0 -7591511241211994112  2016-05-03 11:13:37  78.565084  17.497934   \n",
       "\n",
       "        city      state         gender            age          group  \\\n",
       "0  Hyderabad  Telangana  Not_Available  Not_Available  Not_Available   \n",
       "1  Hyderabad  Telangana              F           28.0         F27-28   \n",
       "2  Hyderabad  Telangana              F           66.0           F43+   \n",
       "3  Hyderabad  Telangana              M           27.0         M27-28   \n",
       "4  Hyderabad  Telangana              M           44.0           M39+   \n",
       "\n",
       "     phone_brand   device_model  \n",
       "0  Not_Available  Not_Available  \n",
       "1         Huawei           荣耀3C  \n",
       "2           vivo            Y13  \n",
       "3        Samsung      Galaxy A7  \n",
       "4         Xiaomi           MI 4  "
      ]
     },
     "execution_count": 100,
     "metadata": {},
     "output_type": "execute_result"
    }
   ],
   "source": [
    "df.head()"
   ]
  },
  {
   "cell_type": "code",
   "execution_count": 101,
   "metadata": {},
   "outputs": [],
   "source": [
    "import datetime as dt\n",
    "res=df.groupby([pd.to_datetime(df['timestamp']).dt.date,pd.to_datetime(df['timestamp']).dt.hour]).size()"
   ]
  },
  {
   "cell_type": "code",
   "execution_count": 102,
   "metadata": {},
   "outputs": [
    {
     "data": {
      "text/plain": [
       "MultiIndex([(2016-05-01,  0),\n",
       "            (2016-05-01,  1),\n",
       "            (2016-05-01,  2),\n",
       "            (2016-05-01,  3),\n",
       "            (2016-05-01,  4),\n",
       "            (2016-05-01,  5),\n",
       "            (2016-05-01,  6),\n",
       "            (2016-05-01,  7),\n",
       "            (2016-05-01,  8),\n",
       "            (2016-05-01,  9),\n",
       "            ...\n",
       "            (2016-05-07, 14),\n",
       "            (2016-05-07, 15),\n",
       "            (2016-05-07, 16),\n",
       "            (2016-05-07, 17),\n",
       "            (2016-05-07, 18),\n",
       "            (2016-05-07, 19),\n",
       "            (2016-05-07, 20),\n",
       "            (2016-05-07, 21),\n",
       "            (2016-05-07, 22),\n",
       "            (2016-05-07, 23)],\n",
       "           names=['timestamp', 'timestamp'], length=164)"
      ]
     },
     "execution_count": 102,
     "metadata": {},
     "output_type": "execute_result"
    }
   ],
   "source": [
    "res.index"
   ]
  },
  {
   "cell_type": "code",
   "execution_count": 103,
   "metadata": {},
   "outputs": [],
   "source": [
    "s=res"
   ]
  },
  {
   "cell_type": "code",
   "execution_count": 104,
   "metadata": {},
   "outputs": [
    {
     "data": {
      "text/plain": [
       "MultiIndex([(2016-05-01,  0),\n",
       "            (2016-05-01,  1),\n",
       "            (2016-05-01,  2),\n",
       "            (2016-05-01,  3),\n",
       "            (2016-05-01,  4),\n",
       "            (2016-05-01,  5),\n",
       "            (2016-05-01,  6),\n",
       "            (2016-05-01,  7),\n",
       "            (2016-05-01,  8),\n",
       "            (2016-05-01,  9),\n",
       "            ...\n",
       "            (2016-05-07, 14),\n",
       "            (2016-05-07, 15),\n",
       "            (2016-05-07, 16),\n",
       "            (2016-05-07, 17),\n",
       "            (2016-05-07, 18),\n",
       "            (2016-05-07, 19),\n",
       "            (2016-05-07, 20),\n",
       "            (2016-05-07, 21),\n",
       "            (2016-05-07, 22),\n",
       "            (2016-05-07, 23)],\n",
       "           names=['timestamp', 'timestamp'], length=164)"
      ]
     },
     "execution_count": 104,
     "metadata": {},
     "output_type": "execute_result"
    }
   ],
   "source": [
    "s.index"
   ]
  },
  {
   "cell_type": "code",
   "execution_count": 105,
   "metadata": {},
   "outputs": [],
   "source": [
    "res=df.groupby([pd.to_datetime(df['timestamp']).dt.floor('H')]).size()"
   ]
  },
  {
   "cell_type": "code",
   "execution_count": 106,
   "metadata": {},
   "outputs": [
    {
     "data": {
      "text/plain": [
       "timestamp\n",
       "2016-05-01 00:00:00    10\n",
       "2016-05-01 01:00:00     5\n",
       "2016-05-01 02:00:00     3\n",
       "2016-05-01 03:00:00     1\n",
       "2016-05-01 04:00:00     2\n",
       "                       ..\n",
       "2016-05-07 19:00:00    16\n",
       "2016-05-07 20:00:00    19\n",
       "2016-05-07 21:00:00    13\n",
       "2016-05-07 22:00:00    26\n",
       "2016-05-07 23:00:00    13\n",
       "Length: 164, dtype: int64"
      ]
     },
     "execution_count": 106,
     "metadata": {},
     "output_type": "execute_result"
    }
   ],
   "source": [
    "res"
   ]
  },
  {
   "cell_type": "code",
   "execution_count": 107,
   "metadata": {},
   "outputs": [
    {
     "data": {
      "text/plain": [
       "DatetimeIndex(['2016-05-01 00:00:00', '2016-05-01 01:00:00',\n",
       "               '2016-05-01 02:00:00', '2016-05-01 03:00:00',\n",
       "               '2016-05-01 04:00:00', '2016-05-01 05:00:00',\n",
       "               '2016-05-01 06:00:00', '2016-05-01 07:00:00',\n",
       "               '2016-05-01 08:00:00', '2016-05-01 09:00:00',\n",
       "               ...\n",
       "               '2016-05-07 14:00:00', '2016-05-07 15:00:00',\n",
       "               '2016-05-07 16:00:00', '2016-05-07 17:00:00',\n",
       "               '2016-05-07 18:00:00', '2016-05-07 19:00:00',\n",
       "               '2016-05-07 20:00:00', '2016-05-07 21:00:00',\n",
       "               '2016-05-07 22:00:00', '2016-05-07 23:00:00'],\n",
       "              dtype='datetime64[ns]', name='timestamp', length=164, freq=None)"
      ]
     },
     "execution_count": 107,
     "metadata": {},
     "output_type": "execute_result"
    }
   ],
   "source": [
    "res.index"
   ]
  },
  {
   "cell_type": "code",
   "execution_count": 108,
   "metadata": {},
   "outputs": [
    {
     "data": {
      "text/plain": [
       "<BarContainer object of 164 artists>"
      ]
     },
     "execution_count": 108,
     "metadata": {},
     "output_type": "execute_result"
    },
    {
     "data": {
      "image/png": "[encoded data removed]",
      "text/plain": [
       "<Figure size 1080x504 with 1 Axes>"
      ]
     },
     "metadata": {
      "needs_background": "light"
     },
     "output_type": "display_data"
    }
   ],
   "source": [
    "import pandas as pd\n",
    "import matplotlib.pyplot as plt\n",
    "import matplotlib.dates as mdates\n",
    "from datetime import datetime, timedelta\n",
    "plt.figure(figsize=(15,7))\n",
    "ax = plt.gca()\n",
    "\n",
    "locator = mdates.AutoDateLocator(minticks=7, maxticks=20)\n",
    "formatter = mdates.ConciseDateFormatter(locator, formats=['', '', '%b-%d', '%H PM', '', ''],\n",
    "                                                zero_formats=['', '', '', '', '', ''],\n",
    "                                                show_offset=False)\n",
    "ax.xaxis.set_major_locator(locator)\n",
    "ax.xaxis.set_major_formatter(formatter)\n",
    " # month-day:\n",
    "formatter.zero_formats[3] = '%d-%b'                              \n",
    "\n",
    "ax.set_xlim(np.datetime64('2016-05-01 00:01:49'), np.datetime64('2016-05-07 23:55:55'))\n",
    "# format the coords message box\n",
    "ax.bar(res.index,res,width=0.01)\n",
    "\n"
   ]
  },
  {
   "cell_type": "code",
   "execution_count": 109,
   "metadata": {},
   "outputs": [
    {
     "data": {
      "text/plain": [
       "timestamp\n",
       "2016-05-01 00:00:00    10\n",
       "2016-05-01 01:00:00     5\n",
       "2016-05-01 02:00:00     3\n",
       "2016-05-01 03:00:00     1\n",
       "2016-05-01 04:00:00     2\n",
       "                       ..\n",
       "2016-05-07 19:00:00    16\n",
       "2016-05-07 20:00:00    19\n",
       "2016-05-07 21:00:00    13\n",
       "2016-05-07 22:00:00    26\n",
       "2016-05-07 23:00:00    13\n",
       "Length: 164, dtype: int64"
      ]
     },
     "execution_count": 109,
     "metadata": {},
     "output_type": "execute_result"
    }
   ],
   "source": [
    "res"
   ]
  },
  {
   "cell_type": "code",
   "execution_count": 110,
   "metadata": {},
   "outputs": [
    {
     "data": {
      "text/plain": [
       "DatetimeIndex(['2016-05-01 00:00:00', '2016-05-01 01:00:00',\n",
       "               '2016-05-01 02:00:00', '2016-05-01 03:00:00',\n",
       "               '2016-05-01 04:00:00', '2016-05-01 05:00:00',\n",
       "               '2016-05-01 06:00:00', '2016-05-01 07:00:00',\n",
       "               '2016-05-01 08:00:00', '2016-05-01 09:00:00',\n",
       "               ...\n",
       "               '2016-05-07 14:00:00', '2016-05-07 15:00:00',\n",
       "               '2016-05-07 16:00:00', '2016-05-07 17:00:00',\n",
       "               '2016-05-07 18:00:00', '2016-05-07 19:00:00',\n",
       "               '2016-05-07 20:00:00', '2016-05-07 21:00:00',\n",
       "               '2016-05-07 22:00:00', '2016-05-07 23:00:00'],\n",
       "              dtype='datetime64[ns]', name='timestamp', length=164, freq=None)"
      ]
     },
     "execution_count": 110,
     "metadata": {},
     "output_type": "execute_result"
    }
   ],
   "source": [
    "res.index"
   ]
  },
  {
   "cell_type": "code",
   "execution_count": 111,
   "metadata": {},
   "outputs": [
    {
     "data": {
      "text/plain": [
       "[<matplotlib.lines.Line2D at 0x1ca098b8860>]"
      ]
     },
     "execution_count": 111,
     "metadata": {},
     "output_type": "execute_result"
    },
    {
     "data": {
      "image/png": "[encoded data removed]",
      "text/plain": [
       "<Figure size 1080x504 with 1 Axes>"
      ]
     },
     "metadata": {
      "needs_background": "light"
     },
     "output_type": "display_data"
    }
   ],
   "source": [
    "import pandas as pd\n",
    "import matplotlib.pyplot as plt\n",
    "import matplotlib.dates as mdates\n",
    "from datetime import datetime, timedelta\n",
    "\n",
    "import matplotlib.dates as md\n",
    "import dateutil\n",
    "\n",
    "plt.figure(figsize=(15,7))\n",
    "ax = plt.gca()\n",
    "\n",
    "locator = mdates.AutoDateLocator(minticks=7, maxticks=20)\n",
    "formatter = mdates.ConciseDateFormatter(locator, formats=['', '', '%b-%d', '%H', '', ''],\n",
    "                                                zero_formats=['', '', '', '', '', ''],\n",
    "                                                show_offset=False)\n",
    "ax.xaxis.set_major_locator(locator)\n",
    "ax.xaxis.set_major_formatter(formatter)                            \n",
    "\n",
    "ax.set_xlim(np.datetime64('2016-05-01 00:01:49'), np.datetime64('2016-05-07 23:55:55'))\n",
    "# format the coords message box\n",
    "ax.bar(res.index,res,width=0.01)\n",
    "\n",
    "xfmt = md.DateFormatter('%Y-%m-%d, %H PM')\n",
    "ax.xaxis.set_major_formatter(xfmt)\n",
    "plt.xticks( rotation=25 )\n",
    "plt.plot(res, \"o-\")"
   ]
  },
  {
   "cell_type": "code",
   "execution_count": 114,
   "metadata": {},
   "outputs": [],
   "source": [
    "# Load libraries\n",
    "from __future__ import division\n",
    "import pandas as pd\n",
    "from itertools import groupby\n",
    "import operator\n",
    "import matplotlib.pyplot as plt\n",
    "import matplotlib.cm\n",
    "#% matplotlib inline\n",
    "from mpl_toolkits.basemap import Basemap\n",
    "from matplotlib.patches import Polygon\n",
    "from matplotlib.collections import PatchCollection\n",
    "from matplotlib.colors import Normalize\n",
    "import numpy as np\n",
    "#import seaborn as sns\n",
    "import math"
   ]
  },
  {
   "cell_type": "code",
   "execution_count": 115,
   "metadata": {},
   "outputs": [],
   "source": [
    "# Load dataset\n",
    "# Final cleansed joined dataframe\n",
    "data = pd.read_csv(\"C:/Users/sphoo/Veena-INSAID/CAPSTONE1/Event_gender_phone_States.csv\")"
   ]
  },
  {
   "cell_type": "code",
   "execution_count": 117,
   "metadata": {},
   "outputs": [
    {
     "data": {
      "image/png": "[encoded data removed]",
      "text/plain": [
       "<Figure size 1440x1440 with 1 Axes>"
      ]
     },
     "metadata": {},
     "output_type": "display_data"
    }
   ],
   "source": [
    "# Create figure \n",
    "fig, ax = plt.subplots()\n",
    "# Create a map with the coordinates determined by the Bounding Box tool\n",
    "m = Basemap(resolution='c', projection='merc', lat_0=54.5, lon_0=-4.36, llcrnrlon=68., llcrnrlat=6., urcrnrlon=97., urcrnrlat=37.)\n",
    "\n",
    "# Draw map boundary and set the color\n",
    "m.drawmapboundary(fill_color='#46bcec')\n",
    "# Fill continents and lakes\n",
    "m.fillcontinents(color='#f2f2f2',lake_color='#46bcec')\n",
    "# Draw coast lines\n",
    "m.drawcoastlines()\n",
    "# Load the shape file of India\n",
    "m.readshapefile(\"C:/Users/sphoo/Veena-INSAID/India-Map-Data/INDIA/INDIA\",\"INDIA\")\n",
    "\n",
    "# Iterate through all rows of INDIA_info file\n",
    "# Each row is a dictionary. Here, we try to map state name with literacy rate\n",
    "for state_info in m.INDIA_info:\n",
    "    # Get the state in uppercase, as our csv file has state names in upper case\n",
    "    state = state_info['ST_NAME'].upper()\n",
    "    # initialize rate = 0\n",
    "    rate = 0     \n",
    "    \n",
    "# Create a dataframe containing shapes and states\n",
    "df_poly = pd.DataFrame({\n",
    "        'shapes': [Polygon(np.array(shape), True) for shape in m.INDIA],\n",
    "        'area': [area['ST_NAME'] for area in m.INDIA_info]\n",
    "      \n",
    "    })\n",
    "\n",
    "# Get all the shapes\n",
    "shapes = [Polygon(np.array(shape), True) for shape in m.INDIA]\n",
    "norm = Normalize()\n",
    "ax.set_title(\"INDIAN MOBILE USERS DEMOGRAPHICS\")\n",
    "# Change plot size and font size\n",
    "plt.rcParams['figure.figsize'] = (10,10)\n",
    "plt.rcParams.update({'font.size': 12})\n",
    "# convert lat and long to map projection coordinates\n",
    "lat = data['latitude'].values\n",
    "lon = data['longitude'].values\n",
    "# convert lat and lon to map projection coordinates\n",
    "lons, lats = m(lon, lat)\n",
    "#lons, lats = m(data['longitude'], data['latitude'])\n",
    "m.scatter(lons, lats, marker = 'o', color='green', zorder=5)\n",
    "plt.show()"
   ]
  },
  {
   "cell_type": "code",
   "execution_count": null,
   "metadata": {},
   "outputs": [],
   "source": []
  }
 ],
 "metadata": {
  "kernelspec": {
   "display_name": "Python 3",
   "language": "python",
   "name": "python3"
  },
  "language_info": {
   "codemirror_mode": {
    "name": "ipython",
    "version": 3
   },
   "file_extension": ".py",
   "mimetype": "text/x-python",
   "name": "python",
   "nbconvert_exporter": "python",
   "pygments_lexer": "ipython3",
   "version": "3.7.1"
  }
 },
 "nbformat": 4,
 "nbformat_minor": 2
}
